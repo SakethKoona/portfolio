{
  "cells": [
    {
      "cell_type": "markdown",
      "metadata": {
        "id": "n-7KRjqKv-1I"
      },
      "source": [
        "# Fake News Classification using Long Short-Term Memory Models\n",
        "With the ubiquity of the internet, social media, and the rise of Artificial Intelligence in the global sphere with Large language models such as GPT-4, fake news and misinformation has become an increasingly large and serious problem. Fake news is now harder to detect than it was in the past, with new and creative methods to generate information such as deepfake images and even artificially generated audio.\n",
        "\n",
        "\n",
        "In this program, I hope to create a functioning Fake News Classifier using Long Short Term Memory Models that can effectively classify news articles as Fake or Real.\n",
        "\n"
      ]
    },
    {
      "cell_type": "markdown",
      "metadata": {
        "id": "lZ1sqk4Yy4w5"
      },
      "source": [
        "For any deep learning model, a dataset to initially train on and validate is necessary. I am going to be using the \"Fake and Real News\" dataset from George McIntire. This is a compilation of different news articles labeled either FAKE or REAL; the features include the title of the article and the actual article itself.\n",
        "\n",
        "Dataset Source: https://github.com/GeorgeMcIntire/fake_real_news_dataset/blob/main/fake_and_real_news_dataset.csv"
      ]
    },
    {
      "cell_type": "markdown",
      "metadata": {
        "id": "NO_fjR0szuGW"
      },
      "source": [
        "\n",
        "\n",
        "---\n",
        "\n"
      ]
    },
    {
      "cell_type": "markdown",
      "metadata": {
        "id": "p2KwvNY90G3q"
      },
      "source": [
        "I'm importing some necessary models to begin the project. They include deep learning libraries such as tensorflow, transformers and keras, pandas and numpy for data analysis and manipulation, matplotlib and seaborn for data visualization, nltk for Natural Language Processing, and math for some useful functions."
      ]
    },
    {
      "cell_type": "code",
      "execution_count": 4,
      "metadata": {
        "id": "gDQOFcCMhRNG"
      },
      "outputs": [],
      "source": [
        "import tensorflow as tf\n",
        "import keras\n",
        "from keras import regularizers\n",
        "import matplotlib.pyplot as plt\n",
        "import seaborn as sns\n",
        "from keras.preprocessing import sequence\n",
        "\n",
        "import pandas as pd\n",
        "import numpy as np\n",
        "from transformers import AutoTokenizer\n",
        "import math\n",
        "\n",
        "import re\n",
        "import nltk\n",
        "from nltk.corpus import stopwords\n",
        "from nltk.tokenize import word_tokenize\n",
        "from nltk.stem import WordNetLemmatizer\n",
        "from nltk import ngrams\n",
        "from collections import Counter\n",
        "\n",
        "import warnings"
      ]
    },
    {
      "cell_type": "code",
      "execution_count": 5,
      "metadata": {
        "colab": {
          "base_uri": "https://localhost:8080/"
        },
        "id": "BcE85UPQJigN",
        "outputId": "ec5fd671-d41b-45f0-d00a-53cab8990a13"
      },
      "outputs": [
        {
          "output_type": "stream",
          "name": "stderr",
          "text": [
            "[nltk_data] Downloading package punkt to /root/nltk_data...\n",
            "[nltk_data]   Package punkt is already up-to-date!\n",
            "[nltk_data] Downloading package stopwords to /root/nltk_data...\n",
            "[nltk_data]   Package stopwords is already up-to-date!\n",
            "[nltk_data] Downloading package wordnet to /root/nltk_data...\n",
            "[nltk_data]   Package wordnet is already up-to-date!\n"
          ]
        }
      ],
      "source": [
        "sns.set_style(\"dark\")\n",
        "\n",
        "nltk.download('punkt')\n",
        "nltk.download('stopwords')\n",
        "nltk.download('wordnet')\n",
        "\n",
        "warnings.filterwarnings('ignore')"
      ]
    },
    {
      "cell_type": "markdown",
      "metadata": {
        "id": "MWfQDNbg7kns"
      },
      "source": [
        "Loading in the dataset and doing some basic data cleaning and formatting\n",
        "\n"
      ]
    },
    {
      "cell_type": "code",
      "execution_count": 6,
      "metadata": {
        "id": "Jfvz2YCyjl6H"
      },
      "outputs": [],
      "source": [
        "df = pd.read_csv('/content/fake_and_real_news_dataset.csv')"
      ]
    },
    {
      "cell_type": "markdown",
      "metadata": {
        "id": "EWqIqcCF76Y_"
      },
      "source": [
        "The idd column is unnecessary for our purposes, we can just use the index column as IDs to locate information and entries."
      ]
    },
    {
      "cell_type": "code",
      "execution_count": 7,
      "metadata": {
        "id": "9WS6OGkJjvcS"
      },
      "outputs": [],
      "source": [
        "df.drop('idd', axis=1, inplace=True)"
      ]
    },
    {
      "cell_type": "code",
      "execution_count": 8,
      "metadata": {
        "id": "TXjgVlcAj4IV"
      },
      "outputs": [],
      "source": [
        "# The label column is currently of type String, converting it into floats for our model.\n",
        "df['label'] = np.where(df['label'] == 'REAL', 1.0, 0.0)"
      ]
    },
    {
      "cell_type": "code",
      "execution_count": 9,
      "metadata": {
        "colab": {
          "base_uri": "https://localhost:8080/",
          "height": 206
        },
        "id": "5alVx3BdkLqQ",
        "outputId": "ed2292be-93cf-4bd4-bc98-c6ed5d97ce4e"
      },
      "outputs": [
        {
          "output_type": "execute_result",
          "data": {
            "text/plain": [
              "                                               title  \\\n",
              "0  ‘A target on Roe v. Wade ’: Oklahoma bill maki...   \n",
              "1  Study: women had to drive 4 times farther afte...   \n",
              "2        Trump, Clinton clash in dueling DC speeches   \n",
              "3  Grand jury in Texas indicts activists behind P...   \n",
              "4  As Reproductive Rights Hang In The Balance, De...   \n",
              "\n",
              "                                                text  label  \n",
              "0  UPDATE: Gov. Fallin vetoed the bill on Friday....    1.0  \n",
              "1  Ever since Texas laws closed about half of the...    1.0  \n",
              "2  Donald Trump and Hillary Clinton, now at the s...    1.0  \n",
              "3  A Houston grand jury investigating criminal al...    1.0  \n",
              "4  WASHINGTON -- Forty-three years after the Supr...    1.0  "
            ],
            "text/html": [
              "\n",
              "  <div id=\"df-1dec9772-38d7-43e3-8c73-6933ea2c07ab\" class=\"colab-df-container\">\n",
              "    <div>\n",
              "<style scoped>\n",
              "    .dataframe tbody tr th:only-of-type {\n",
              "        vertical-align: middle;\n",
              "    }\n",
              "\n",
              "    .dataframe tbody tr th {\n",
              "        vertical-align: top;\n",
              "    }\n",
              "\n",
              "    .dataframe thead th {\n",
              "        text-align: right;\n",
              "    }\n",
              "</style>\n",
              "<table border=\"1\" class=\"dataframe\">\n",
              "  <thead>\n",
              "    <tr style=\"text-align: right;\">\n",
              "      <th></th>\n",
              "      <th>title</th>\n",
              "      <th>text</th>\n",
              "      <th>label</th>\n",
              "    </tr>\n",
              "  </thead>\n",
              "  <tbody>\n",
              "    <tr>\n",
              "      <th>0</th>\n",
              "      <td>‘A target on Roe v. Wade ’: Oklahoma bill maki...</td>\n",
              "      <td>UPDATE: Gov. Fallin vetoed the bill on Friday....</td>\n",
              "      <td>1.0</td>\n",
              "    </tr>\n",
              "    <tr>\n",
              "      <th>1</th>\n",
              "      <td>Study: women had to drive 4 times farther afte...</td>\n",
              "      <td>Ever since Texas laws closed about half of the...</td>\n",
              "      <td>1.0</td>\n",
              "    </tr>\n",
              "    <tr>\n",
              "      <th>2</th>\n",
              "      <td>Trump, Clinton clash in dueling DC speeches</td>\n",
              "      <td>Donald Trump and Hillary Clinton, now at the s...</td>\n",
              "      <td>1.0</td>\n",
              "    </tr>\n",
              "    <tr>\n",
              "      <th>3</th>\n",
              "      <td>Grand jury in Texas indicts activists behind P...</td>\n",
              "      <td>A Houston grand jury investigating criminal al...</td>\n",
              "      <td>1.0</td>\n",
              "    </tr>\n",
              "    <tr>\n",
              "      <th>4</th>\n",
              "      <td>As Reproductive Rights Hang In The Balance, De...</td>\n",
              "      <td>WASHINGTON -- Forty-three years after the Supr...</td>\n",
              "      <td>1.0</td>\n",
              "    </tr>\n",
              "  </tbody>\n",
              "</table>\n",
              "</div>\n",
              "    <div class=\"colab-df-buttons\">\n",
              "\n",
              "  <div class=\"colab-df-container\">\n",
              "    <button class=\"colab-df-convert\" onclick=\"convertToInteractive('df-1dec9772-38d7-43e3-8c73-6933ea2c07ab')\"\n",
              "            title=\"Convert this dataframe to an interactive table.\"\n",
              "            style=\"display:none;\">\n",
              "\n",
              "  <svg xmlns=\"http://www.w3.org/2000/svg\" height=\"24px\" viewBox=\"0 -960 960 960\">\n",
              "    <path d=\"M120-120v-720h720v720H120Zm60-500h600v-160H180v160Zm220 220h160v-160H400v160Zm0 220h160v-160H400v160ZM180-400h160v-160H180v160Zm440 0h160v-160H620v160ZM180-180h160v-160H180v160Zm440 0h160v-160H620v160Z\"/>\n",
              "  </svg>\n",
              "    </button>\n",
              "\n",
              "  <style>\n",
              "    .colab-df-container {\n",
              "      display:flex;\n",
              "      gap: 12px;\n",
              "    }\n",
              "\n",
              "    .colab-df-convert {\n",
              "      background-color: #E8F0FE;\n",
              "      border: none;\n",
              "      border-radius: 50%;\n",
              "      cursor: pointer;\n",
              "      display: none;\n",
              "      fill: #1967D2;\n",
              "      height: 32px;\n",
              "      padding: 0 0 0 0;\n",
              "      width: 32px;\n",
              "    }\n",
              "\n",
              "    .colab-df-convert:hover {\n",
              "      background-color: #E2EBFA;\n",
              "      box-shadow: 0px 1px 2px rgba(60, 64, 67, 0.3), 0px 1px 3px 1px rgba(60, 64, 67, 0.15);\n",
              "      fill: #174EA6;\n",
              "    }\n",
              "\n",
              "    .colab-df-buttons div {\n",
              "      margin-bottom: 4px;\n",
              "    }\n",
              "\n",
              "    [theme=dark] .colab-df-convert {\n",
              "      background-color: #3B4455;\n",
              "      fill: #D2E3FC;\n",
              "    }\n",
              "\n",
              "    [theme=dark] .colab-df-convert:hover {\n",
              "      background-color: #434B5C;\n",
              "      box-shadow: 0px 1px 3px 1px rgba(0, 0, 0, 0.15);\n",
              "      filter: drop-shadow(0px 1px 2px rgba(0, 0, 0, 0.3));\n",
              "      fill: #FFFFFF;\n",
              "    }\n",
              "  </style>\n",
              "\n",
              "    <script>\n",
              "      const buttonEl =\n",
              "        document.querySelector('#df-1dec9772-38d7-43e3-8c73-6933ea2c07ab button.colab-df-convert');\n",
              "      buttonEl.style.display =\n",
              "        google.colab.kernel.accessAllowed ? 'block' : 'none';\n",
              "\n",
              "      async function convertToInteractive(key) {\n",
              "        const element = document.querySelector('#df-1dec9772-38d7-43e3-8c73-6933ea2c07ab');\n",
              "        const dataTable =\n",
              "          await google.colab.kernel.invokeFunction('convertToInteractive',\n",
              "                                                    [key], {});\n",
              "        if (!dataTable) return;\n",
              "\n",
              "        const docLinkHtml = 'Like what you see? Visit the ' +\n",
              "          '<a target=\"_blank\" href=https://colab.research.google.com/notebooks/data_table.ipynb>data table notebook</a>'\n",
              "          + ' to learn more about interactive tables.';\n",
              "        element.innerHTML = '';\n",
              "        dataTable['output_type'] = 'display_data';\n",
              "        await google.colab.output.renderOutput(dataTable, element);\n",
              "        const docLink = document.createElement('div');\n",
              "        docLink.innerHTML = docLinkHtml;\n",
              "        element.appendChild(docLink);\n",
              "      }\n",
              "    </script>\n",
              "  </div>\n",
              "\n",
              "\n",
              "<div id=\"df-3bdbf9d0-81f9-4a29-82a1-1181b1a5f207\">\n",
              "  <button class=\"colab-df-quickchart\" onclick=\"quickchart('df-3bdbf9d0-81f9-4a29-82a1-1181b1a5f207')\"\n",
              "            title=\"Suggest charts\"\n",
              "            style=\"display:none;\">\n",
              "\n",
              "<svg xmlns=\"http://www.w3.org/2000/svg\" height=\"24px\"viewBox=\"0 0 24 24\"\n",
              "     width=\"24px\">\n",
              "    <g>\n",
              "        <path d=\"M19 3H5c-1.1 0-2 .9-2 2v14c0 1.1.9 2 2 2h14c1.1 0 2-.9 2-2V5c0-1.1-.9-2-2-2zM9 17H7v-7h2v7zm4 0h-2V7h2v10zm4 0h-2v-4h2v4z\"/>\n",
              "    </g>\n",
              "</svg>\n",
              "  </button>\n",
              "\n",
              "<style>\n",
              "  .colab-df-quickchart {\n",
              "      --bg-color: #E8F0FE;\n",
              "      --fill-color: #1967D2;\n",
              "      --hover-bg-color: #E2EBFA;\n",
              "      --hover-fill-color: #174EA6;\n",
              "      --disabled-fill-color: #AAA;\n",
              "      --disabled-bg-color: #DDD;\n",
              "  }\n",
              "\n",
              "  [theme=dark] .colab-df-quickchart {\n",
              "      --bg-color: #3B4455;\n",
              "      --fill-color: #D2E3FC;\n",
              "      --hover-bg-color: #434B5C;\n",
              "      --hover-fill-color: #FFFFFF;\n",
              "      --disabled-bg-color: #3B4455;\n",
              "      --disabled-fill-color: #666;\n",
              "  }\n",
              "\n",
              "  .colab-df-quickchart {\n",
              "    background-color: var(--bg-color);\n",
              "    border: none;\n",
              "    border-radius: 50%;\n",
              "    cursor: pointer;\n",
              "    display: none;\n",
              "    fill: var(--fill-color);\n",
              "    height: 32px;\n",
              "    padding: 0;\n",
              "    width: 32px;\n",
              "  }\n",
              "\n",
              "  .colab-df-quickchart:hover {\n",
              "    background-color: var(--hover-bg-color);\n",
              "    box-shadow: 0 1px 2px rgba(60, 64, 67, 0.3), 0 1px 3px 1px rgba(60, 64, 67, 0.15);\n",
              "    fill: var(--button-hover-fill-color);\n",
              "  }\n",
              "\n",
              "  .colab-df-quickchart-complete:disabled,\n",
              "  .colab-df-quickchart-complete:disabled:hover {\n",
              "    background-color: var(--disabled-bg-color);\n",
              "    fill: var(--disabled-fill-color);\n",
              "    box-shadow: none;\n",
              "  }\n",
              "\n",
              "  .colab-df-spinner {\n",
              "    border: 2px solid var(--fill-color);\n",
              "    border-color: transparent;\n",
              "    border-bottom-color: var(--fill-color);\n",
              "    animation:\n",
              "      spin 1s steps(1) infinite;\n",
              "  }\n",
              "\n",
              "  @keyframes spin {\n",
              "    0% {\n",
              "      border-color: transparent;\n",
              "      border-bottom-color: var(--fill-color);\n",
              "      border-left-color: var(--fill-color);\n",
              "    }\n",
              "    20% {\n",
              "      border-color: transparent;\n",
              "      border-left-color: var(--fill-color);\n",
              "      border-top-color: var(--fill-color);\n",
              "    }\n",
              "    30% {\n",
              "      border-color: transparent;\n",
              "      border-left-color: var(--fill-color);\n",
              "      border-top-color: var(--fill-color);\n",
              "      border-right-color: var(--fill-color);\n",
              "    }\n",
              "    40% {\n",
              "      border-color: transparent;\n",
              "      border-right-color: var(--fill-color);\n",
              "      border-top-color: var(--fill-color);\n",
              "    }\n",
              "    60% {\n",
              "      border-color: transparent;\n",
              "      border-right-color: var(--fill-color);\n",
              "    }\n",
              "    80% {\n",
              "      border-color: transparent;\n",
              "      border-right-color: var(--fill-color);\n",
              "      border-bottom-color: var(--fill-color);\n",
              "    }\n",
              "    90% {\n",
              "      border-color: transparent;\n",
              "      border-bottom-color: var(--fill-color);\n",
              "    }\n",
              "  }\n",
              "</style>\n",
              "\n",
              "  <script>\n",
              "    async function quickchart(key) {\n",
              "      const quickchartButtonEl =\n",
              "        document.querySelector('#' + key + ' button');\n",
              "      quickchartButtonEl.disabled = true;  // To prevent multiple clicks.\n",
              "      quickchartButtonEl.classList.add('colab-df-spinner');\n",
              "      try {\n",
              "        const charts = await google.colab.kernel.invokeFunction(\n",
              "            'suggestCharts', [key], {});\n",
              "      } catch (error) {\n",
              "        console.error('Error during call to suggestCharts:', error);\n",
              "      }\n",
              "      quickchartButtonEl.classList.remove('colab-df-spinner');\n",
              "      quickchartButtonEl.classList.add('colab-df-quickchart-complete');\n",
              "    }\n",
              "    (() => {\n",
              "      let quickchartButtonEl =\n",
              "        document.querySelector('#df-3bdbf9d0-81f9-4a29-82a1-1181b1a5f207 button');\n",
              "      quickchartButtonEl.style.display =\n",
              "        google.colab.kernel.accessAllowed ? 'block' : 'none';\n",
              "    })();\n",
              "  </script>\n",
              "</div>\n",
              "\n",
              "    </div>\n",
              "  </div>\n"
            ],
            "application/vnd.google.colaboratory.intrinsic+json": {
              "type": "dataframe",
              "variable_name": "df",
              "summary": "{\n  \"name\": \"df\",\n  \"rows\": 4594,\n  \"fields\": [\n    {\n      \"column\": \"title\",\n      \"properties\": {\n        \"dtype\": \"string\",\n        \"num_unique_values\": 4537,\n        \"samples\": [\n          \"McConnell: No lame duck confirmation\",\n          \"Trump shakes up campaign, prepares to roll out long-awaited ads\",\n          \"Aleppo fighters demand $300 for exit via humanitarian corridors\"\n        ],\n        \"semantic_type\": \"\",\n        \"description\": \"\"\n      }\n    },\n    {\n      \"column\": \"text\",\n      \"properties\": {\n        \"dtype\": \"string\",\n        \"num_unique_values\": 4409,\n        \"samples\": [\n          \"Democrats are Racist for Calling Black Trump Supporters Uneducated Red Necks page: 1 link Its ok to call us white Trump supporters all that but when You mess with our black friends then that's another issue. Democrats need to realize that some black folks and white folks all grew up with different opportunities and school zones, that is SO RACIST to call them uneducated, its fine to call us whites that but not our black brothers and sisters, the Hispanics and all other non whites. How dare the Clintons offend our black and other minority members , Im sure some liberal will come along and say something totally ignorant like trump doesn't have and black supporters, well he does, over 20% of them. True, the democrats didn't single out the blacks and minorities, they referred to all of us as lots of things, all of us AMERICANS that weren't equal in our financial upbringings. You see, I see all of us Trump supporters as 3 colors, red white and blue. I see us all as Ameicans and not trying to DIVIDE people like the democrats.\",\n          \"LYNCHBURG, Va. \\u2014Ted Cruz will announce Monday that he will seek the presidency, launching a campaign that aims to energize the party's Tea Party and socially conservative wings.\\n\\nCruz's plans were confirmed Sunday by two senior advisers with direct knowledge of his plans, who requested anonymity because an official announcement had not yet been made.\\n\\nThe Texas Republican will be the first candidate to officially declare a 2016 run for the White House, though several more are likely to be close behind him.\\n\\nSen. Rand Paul, R-Ky., is expected to announce on April 7. Former Florida governor Jeb Bush, Wisconsin Gov. Scott Walker and other potential candidates have taken preliminary steps towards campaigns.\\n\\nOn the Democratic side, former secretary of State Hillary Rodham Clinton is also expected to launch a campaign soon.\\n\\nCruz is set to announce his intentions in a speech at Liberty University, founded by Jerry Falwell, which bills itself as the world's largest Christian university. The Houston Chronicle was the first to report Cruz's announcement.\\n\\nCruz, 44, is just starting the third year of his first Senate term. He is an undisputed leader of the Tea Party movement, known for his brash, uncompromising style and conservative beliefs that target both President Obama as well as his fellow Republicans.\\n\\nHe repeatedly criticizes the \\\"mushy middle\\\" \\u2014 as reflected by the GOP's last two presidential nominees Mitt Romney and Sen. John McCain \\u2014 and denounces his fellow Republicans for failing to make bold distinctions with Democrats. \\\"It's a failed electoral strategy,\\\" Cruz has said.\\n\\nPerhaps more than any other potential candidate, Cruz has urged a more aggressive path for Republicans. He has criticized his party leadership for not taking on Obama over health care and immigration and has urged the party faithful to \\\"demand action, not talk\\\" from their elected officials \\u2014 including fellow Republicans.\\n\\n\\\"If a candidate tells you that they oppose Obamacare, fantastic! (But) when have you stood up and fought against it?\\\" Cruz said last month at the Conservative Political Action Conference. \\\"If a candidate says they oppose Obama's illegal executive amnesty, terrific. When have you stood up and fought against it?\\\"\\n\\nJames Henson, director of the Texas Politics Project at the University of Texas in Austin, said the GOP primaries will determine whether Cruz's personality will be an asset or a challenge\\n\\n\\\"His combativeness and tone are a potential problem,\\\" Henson said. \\\"They are part of the image he's cultivated and, from what I have seen, he is not overly concerned with modulating that brand. We're going to see whether it works or not.\\\"\\n\\nCruz begins the race trailing in early GOP presidential polls and lags well behind Bush and Walker, the two leading candidates at this stage. He is expected to compete with Paul and Florida Sen. Marco Rubio for support from movement conservatives and Tea Party supporters, and with former Arkansas governor Mike Huckabee and former Pennsylvania senator Rick Santorum \\u2014 the last two winners of the Iowa caucuses \\u2014 for the votes of religious conservatives.\\n\\nA self-described lifelong conservative who grew up in Houston, Cruz was educated at Princeton and Harvard and clerked for Supreme Court Chief Justice William Rehnquist. He had stints in the federal government \\u2014 working for the U.S. Trade Commission and the Justice Department in the George W. Bush administration \\u2014 as well as in private law practice.\\n\\nHe returned home to Texas to serve as solicitor general for Greg Abbott, the former state attorney general who is now governor. But it was Cruz's drubbing in 2012 of then-lieutenant governor David Dewhurst in the Senate GOP primary that made him a Tea Party star.\\n\\nLess than a year later, congressional Republicans would praise \\u2014 and blame \\u2014 Cruz for his role in the 2013 government shutdown and this year's dispute over homeland security funding. His marathon protest on the Senate floor in 2013 over the Affordable Care Act led to the partial government shutdown that year and earned Cruz national notoriety.\\n\\nMark Jones, chairman of the Rice University political science department, said Cruz's immediate task is to figure out a \\\"realistic path\\\" that moves him from the second tier of Republican candidates into the first tier now occupied by Bush and Walker. And even if the Texan cannot do that, Jones said a 2016 presidential bid for Cruz still makes sense.\\n\\n\\\"Cruz is at the very beginning of what is certain to be a long and successful political career,\\\" Jones said. \\\"This presidential campaign can be successful even if he does not obtain the Republican nomination, by allowing him to reach out and speak to a broader Republican audience.\\\"\",\n          \"Print \\nIf you want to see war without end, vote for Hillary Clinton. It is tremendously ironic that Hillary Clinton and the mainstream media have attempted to portray Donald Trump as \\u201cdangerous\\u201d and \\u201ctemperamental\\u201d, because it is Clinton that actually has a long history of being emotionally unstable. She has a temper that is absolutely legendary, and she has been cussing out the men and women in her security detail for decades . Hillary Clinton played a key role in starting the civil war in Syria, thanks to her Libya is a post-apocalyptic wasteland today, and now she is picking a fight with the Russians before she has even won the election. Of all the candidates there were running for president this election cycle, there was nobody that was even close to as dangerous as Hillary Clinton, and if she wins the election I am fully convinced that World War 3 will begin before her time in the White House is over. \\nSomeone that shares this opinion with me is Donald Trump. According to Reuters , Trump recently stated that we are \\u201cgoing to end up in World War Three over Syria if we listen to Hillary Clinton\\u201d\\u2026 \\nOn Syria\\u2019s civil war, Trump said Clinton could drag the United States into a world war with a more aggressive posture toward resolving the conflict. \\nClinton has called for the establishment of a no-fly zone and \\u201csafe zones\\u201d on the ground to protect non-combatants. Some analysts fear that protecting those zones could bring the United States into direct conflict with Russian fighter jets. \\n\\u201cWhat we should do is focus on ISIS. We should not be focusing on Syria,\\u201d said Trump as he dined on fried eggs and sausage at his Trump National Doral golf resort. \\u201cYou\\u2019re going to end up in World War Three over Syria if we listen to Hillary Clinton.\\u201d \\nIn order to have a no-fly zone in Syria, you would have to enforce it. \\nAnd in order to enforce it, you would have to be willing to shoot at the Russians. \\nAccording to National Intelligence Director James Clapper , that could have dire consequences\\u2026 \\nRussia could shoot down a U.S. aircraft if a no-fly zone were imposed over Syria, National Intelligence Director James Clapper said Tuesday. \\n\\u201cI wouldn\\u2019t put it past them to shoot down an American aircraft if they felt that was threatening to their forces on the ground,\\u201d Clapper said, speaking with CBS\\u2019 Charlie Rose at the Council on Foreign Relations in New York about several national security issues. \\nOf course Clapper is not alone in that assessment. The Chairman of the Joint Chiefs of Staff, General Joseph Francis Dunford, says that imposing a no-fly zone over all of Syria \\u201cwould require us to go to war\\u201d \\u2026 \\n\\u201cRight now, Senator, for us to control all of the airspace in Syria it would require us to go to war, against Syria and Russia,\\u2026 That\\u2019s a pretty fundamental decision that certainly I\\u2019m not going to make.\\u201d ( Senate Armed Services Committee, September 22, 2016, emphasis added) \\nBut Hillary Clinton is unwavering in her position that this is what she wants. \\nYou see, the truth is that Hillary Clinton wants to win the war that she started in Syria. Back in 2011, she spearheaded an effort along with Saudi Arabia and Turkey to try to use the Arab Spring uprisings in the Middle East as an opportunity to try to overthrow President Assad in Syria. If it wasn\\u2019t for her meddling, millions of refugees would not be pouring into Europe and elsewhere, and there would be no \\u201chumanitarian crisis\\u201d in Syria at all. \\nThanks to Russian intervention, the war in Syria is not too far from being over, but the Obama administration is desperate to keep it going. They understand that if Assad is victorious that all of their efforts for the last five years have been wasted, and that is why they are so determined to keep Aleppo from falling. Without Aleppo, many of the jihadist rebels that the Obama administration has been supporting won\\u2019t have anywhere to hide. \\nSo the Obama administration has actually been considering direct strikes against the Syrian military, and the Russians have already said that they will not allow this to happen . If Obama is insane enough to order airstrikes against Syrian forces and the Russians start shooting back, that could set off a chain of events that could rapidly spiral completely out of control. \\nOne recent survey found that current American leadership has a 1 percent approval rating in Russia right now, and the Russians dislike Hillary Clinton even more than they dislike Barack Obama. The Russians know that if Hillary Clinton is elected that it is quite likely that they will have to fight a war with us, and that is why they desperately want Donald Trump to win in November. You can see this outlook reflected in comments that Russian President Vladimir Putin recently made about the two candidates \\u2026 \\n\\u201cMrs. Clinton has chosen to take up a very aggressive stance against our country, against Russia. Mr. Trump, on the other hand, calls for cooperation \\u2013 at least when it comes to the international fight against terrorism,\\u201d Putin said. \\n\\u201cNaturally we welcome those who would like to cooperate with us. And we consider it wrong, that we always have to be in conflict with one another, creating existential threats for each other and for the whole world,\\u201d Putin noted. \\nAnyone that watched the three presidential debates could see that Hillary Clinton is absolutely seething with animosity for Russia. The thought of her finger on the nuclear trigger is almost too terrible to contemplate, but it may soon become a reality. \\nAnd even now, the Obama administration and our NATO allies are shifting forces into position for a confrontation with Moscow. This week it is being reported that NATO troops will soon be sent to Poland, Estonia, Latvia and Lithuania \\u2026 Nine hundred US troops are to be sent to eastern Europe next year as America\\u2019s troubled relationship with Russia enters new, uncertain territory. A US-led battle group of NATO allied soldiers will be sent to Poland as part of the multi-nation operation. British forces will lead one of the four battle groups in Estonia, Canada will spearhead the presence in Latvia and Germany will be present in Lithuania. \\nIn addition, Infowars is reporting that U.S. Marines will soon be stationed in Norway near the border with Russia\\u2026 \\nAfter accepting a Pentagon proposal, Norway will host US Marines at a base near the Russian border as Russia deploys nuclear-capable ships to Kaliningrad. \\nA rotating force of approximately 330 Marines will be stationed at an airfield in the city of Vaernes, just outside Trondheim, beginning in January. Norway and Russia share an 122-mile border in the Arctic. \\n\\u201cThe US initiative to augment their training and exercises in Norway by locating a Marine Corps Rotational Force in Norway is highly welcome and will have positive implications for our already strong bilateral relationship,\\u201d said Norwegian Defense Minister Ine Eriksen S\\u00f8reide. \\nMost Americans aren\\u2019t aware of any of this, nor do they really care about our relationship with Russia. \\nBut in Russia things are completely different. The possibility of war with the United States is the biggest news story over there these days , and feverish preparations are being made for a potential nuclear confrontation \\u2026 \\nRussian authorities have stepped up nuclear-war survival measures amid a showdown with Washington, dusting off Soviet-era civil-defense plans and upgrading bomb shelters in the biggest cities. \\nAt the Kremlin\\u2019s Ministry of Emergency Situations, the Cold War is back. \\nThe country recently held its biggest civil defense drills since the collapse of the U.S.S.R., with what officials said were 40 million people rehearsing a response to chemical and nuclear threats. \\nI know that I have been writing about this over and over , but the truth is that we are on a path to war with Russia, and the election of Hillary Clinton would greatly accelerate the march toward war. \\nIn my controversial new book , I expressed my belief that war with Russia is coming, but at the time that I wrote it I didn\\u2019t know how the election would turn out. \\nAt this point it looks like Clinton is very likely to win on November 8th, and that would be absolutely disastrous for our relationship with Russia. \\nIf you are reading this and you are considering voting for Hillary Clinton, please don\\u2019t do it . We simply cannot afford to have an emotionally unstable warmonger with a violent temper in the White House at this critical time. \\nIf the American people do choose Hillary Clinton this November, I believe that it will be a choice that they will bitterly, bitterly regret in future years. \\nTake a look at the future of America: The Beginning of the End and then prepare shares\"\n        ],\n        \"semantic_type\": \"\",\n        \"description\": \"\"\n      }\n    },\n    {\n      \"column\": \"label\",\n      \"properties\": {\n        \"dtype\": \"number\",\n        \"std\": 0.5000544276929714,\n        \"min\": 0.0,\n        \"max\": 1.0,\n        \"num_unique_values\": 2,\n        \"samples\": [\n          0.0,\n          1.0\n        ],\n        \"semantic_type\": \"\",\n        \"description\": \"\"\n      }\n    }\n  ]\n}"
            }
          },
          "metadata": {},
          "execution_count": 9
        }
      ],
      "source": [
        "df.head()"
      ]
    },
    {
      "cell_type": "code",
      "execution_count": 10,
      "metadata": {
        "colab": {
          "base_uri": "https://localhost:8080/",
          "height": 206
        },
        "id": "Y3loRiT98Wyj",
        "outputId": "05da7705-3f88-4c3b-f6d9-e54a12f3f2a6"
      },
      "outputs": [
        {
          "output_type": "stream",
          "name": "stdout",
          "text": [
            "title    1\n",
            "text     0\n",
            "label    0\n",
            "dtype: int64\n",
            "\n",
            "\n",
            "\n"
          ]
        },
        {
          "output_type": "execute_result",
          "data": {
            "text/plain": [
              "    title                                               text  label\n",
              "988   NaN  A verdict in 2017 could have sweeping conseque...    1.0"
            ],
            "text/html": [
              "\n",
              "  <div id=\"df-066e7802-0741-4625-85a1-f2e8120685d2\" class=\"colab-df-container\">\n",
              "    <div>\n",
              "<style scoped>\n",
              "    .dataframe tbody tr th:only-of-type {\n",
              "        vertical-align: middle;\n",
              "    }\n",
              "\n",
              "    .dataframe tbody tr th {\n",
              "        vertical-align: top;\n",
              "    }\n",
              "\n",
              "    .dataframe thead th {\n",
              "        text-align: right;\n",
              "    }\n",
              "</style>\n",
              "<table border=\"1\" class=\"dataframe\">\n",
              "  <thead>\n",
              "    <tr style=\"text-align: right;\">\n",
              "      <th></th>\n",
              "      <th>title</th>\n",
              "      <th>text</th>\n",
              "      <th>label</th>\n",
              "    </tr>\n",
              "  </thead>\n",
              "  <tbody>\n",
              "    <tr>\n",
              "      <th>988</th>\n",
              "      <td>NaN</td>\n",
              "      <td>A verdict in 2017 could have sweeping conseque...</td>\n",
              "      <td>1.0</td>\n",
              "    </tr>\n",
              "  </tbody>\n",
              "</table>\n",
              "</div>\n",
              "    <div class=\"colab-df-buttons\">\n",
              "\n",
              "  <div class=\"colab-df-container\">\n",
              "    <button class=\"colab-df-convert\" onclick=\"convertToInteractive('df-066e7802-0741-4625-85a1-f2e8120685d2')\"\n",
              "            title=\"Convert this dataframe to an interactive table.\"\n",
              "            style=\"display:none;\">\n",
              "\n",
              "  <svg xmlns=\"http://www.w3.org/2000/svg\" height=\"24px\" viewBox=\"0 -960 960 960\">\n",
              "    <path d=\"M120-120v-720h720v720H120Zm60-500h600v-160H180v160Zm220 220h160v-160H400v160Zm0 220h160v-160H400v160ZM180-400h160v-160H180v160Zm440 0h160v-160H620v160ZM180-180h160v-160H180v160Zm440 0h160v-160H620v160Z\"/>\n",
              "  </svg>\n",
              "    </button>\n",
              "\n",
              "  <style>\n",
              "    .colab-df-container {\n",
              "      display:flex;\n",
              "      gap: 12px;\n",
              "    }\n",
              "\n",
              "    .colab-df-convert {\n",
              "      background-color: #E8F0FE;\n",
              "      border: none;\n",
              "      border-radius: 50%;\n",
              "      cursor: pointer;\n",
              "      display: none;\n",
              "      fill: #1967D2;\n",
              "      height: 32px;\n",
              "      padding: 0 0 0 0;\n",
              "      width: 32px;\n",
              "    }\n",
              "\n",
              "    .colab-df-convert:hover {\n",
              "      background-color: #E2EBFA;\n",
              "      box-shadow: 0px 1px 2px rgba(60, 64, 67, 0.3), 0px 1px 3px 1px rgba(60, 64, 67, 0.15);\n",
              "      fill: #174EA6;\n",
              "    }\n",
              "\n",
              "    .colab-df-buttons div {\n",
              "      margin-bottom: 4px;\n",
              "    }\n",
              "\n",
              "    [theme=dark] .colab-df-convert {\n",
              "      background-color: #3B4455;\n",
              "      fill: #D2E3FC;\n",
              "    }\n",
              "\n",
              "    [theme=dark] .colab-df-convert:hover {\n",
              "      background-color: #434B5C;\n",
              "      box-shadow: 0px 1px 3px 1px rgba(0, 0, 0, 0.15);\n",
              "      filter: drop-shadow(0px 1px 2px rgba(0, 0, 0, 0.3));\n",
              "      fill: #FFFFFF;\n",
              "    }\n",
              "  </style>\n",
              "\n",
              "    <script>\n",
              "      const buttonEl =\n",
              "        document.querySelector('#df-066e7802-0741-4625-85a1-f2e8120685d2 button.colab-df-convert');\n",
              "      buttonEl.style.display =\n",
              "        google.colab.kernel.accessAllowed ? 'block' : 'none';\n",
              "\n",
              "      async function convertToInteractive(key) {\n",
              "        const element = document.querySelector('#df-066e7802-0741-4625-85a1-f2e8120685d2');\n",
              "        const dataTable =\n",
              "          await google.colab.kernel.invokeFunction('convertToInteractive',\n",
              "                                                    [key], {});\n",
              "        if (!dataTable) return;\n",
              "\n",
              "        const docLinkHtml = 'Like what you see? Visit the ' +\n",
              "          '<a target=\"_blank\" href=https://colab.research.google.com/notebooks/data_table.ipynb>data table notebook</a>'\n",
              "          + ' to learn more about interactive tables.';\n",
              "        element.innerHTML = '';\n",
              "        dataTable['output_type'] = 'display_data';\n",
              "        await google.colab.output.renderOutput(dataTable, element);\n",
              "        const docLink = document.createElement('div');\n",
              "        docLink.innerHTML = docLinkHtml;\n",
              "        element.appendChild(docLink);\n",
              "      }\n",
              "    </script>\n",
              "  </div>\n",
              "\n",
              "\n",
              "    </div>\n",
              "  </div>\n"
            ],
            "application/vnd.google.colaboratory.intrinsic+json": {
              "type": "dataframe",
              "repr_error": "0"
            }
          },
          "metadata": {},
          "execution_count": 10
        }
      ],
      "source": [
        "# Checking for any NaN values\n",
        "print(str(df.isna().sum() )+ '\\n\\n\\n')\n",
        "\n",
        "df[df['title'].isna()]"
      ]
    },
    {
      "cell_type": "code",
      "execution_count": 11,
      "metadata": {
        "colab": {
          "base_uri": "https://localhost:8080/"
        },
        "id": "0AVMJNh4EMNx",
        "outputId": "12283459-96d9-45c3-97c4-355e6062ca6f"
      },
      "outputs": [
        {
          "output_type": "execute_result",
          "data": {
            "text/plain": [
              "title    0\n",
              "text     0\n",
              "label    0\n",
              "dtype: int64"
            ]
          },
          "metadata": {},
          "execution_count": 11
        }
      ],
      "source": [
        "df.dropna(inplace=True)\n",
        "df.isna().sum()"
      ]
    },
    {
      "cell_type": "markdown",
      "metadata": {
        "id": "-EMMgxtyMJ6i"
      },
      "source": [
        "---"
      ]
    },
    {
      "cell_type": "markdown",
      "metadata": {
        "id": "VdNz_414FP0W"
      },
      "source": [
        "# Data Exploration\n",
        "\n",
        "In this section, we delve deep into our dataset, uncovering patterns and insights. Data exploration is essential for understanding the data's nuances and spotting trends, anomalies, and relationships. It lays the foundation for reliable analyses and helps identify and fix data quality issues. This exploration phase is vital for making informed decisions and drawing meaningful conclusions from the data."
      ]
    },
    {
      "cell_type": "code",
      "execution_count": 12,
      "metadata": {
        "id": "2kcVsS1ygK8i"
      },
      "outputs": [],
      "source": [
        "# Creating a copy we can manipulate for data exploration, leaving the one we are using for training untouched.\n",
        "explore_df = df.copy()"
      ]
    },
    {
      "cell_type": "code",
      "execution_count": 13,
      "metadata": {
        "id": "hROxygIvg7yv"
      },
      "outputs": [],
      "source": [
        "# Dividing data into fake and real makes data exploration easier.\n",
        "fake = explore_df[explore_df['label'] == 0.0]\n",
        "real = explore_df[explore_df['label'] == 1.0]"
      ]
    },
    {
      "cell_type": "markdown",
      "metadata": {
        "id": "bDKewSm8FR3a"
      },
      "source": [
        "Let's look at the distribution of real and fake values."
      ]
    },
    {
      "cell_type": "code",
      "execution_count": 14,
      "metadata": {
        "colab": {
          "base_uri": "https://localhost:8080/",
          "height": 493
        },
        "id": "zsF0HWNTFPFc",
        "outputId": "138f5b88-5e63-4348-a9be-03a5836be489"
      },
      "outputs": [
        {
          "output_type": "display_data",
          "data": {
            "text/plain": [
              "<Figure size 640x480 with 1 Axes>"
            ],
            "image/png": "[encoded data removed]"
          },
          "metadata": {}
        }
      ],
      "source": [
        "color_mapping = {\n",
        "    '0.0': 'orange',\n",
        "    '1.0': 'blue'\n",
        "}\n",
        "\n",
        "ax = sns.barplot(data=explore_df['label'].value_counts(),\n",
        "                 palette=color_mapping,\n",
        "                 orient='v')\n",
        "\n",
        "ax.set_xticklabels(['FAKE', 'REAL'])\n",
        "\n",
        "for i in ax.containers:\n",
        "  ax.bar_label(i,)\n",
        "\n",
        "plt.title(\"Distribution of Real and Fake Entries\\n\")\n",
        "plt.xlabel(\"Label\")\n",
        "plt.ylabel(\"Count\")\n",
        "\n",
        "plt.show()"
      ]
    },
    {
      "cell_type": "markdown",
      "metadata": {
        "id": "rIe4u1cdgFHu"
      },
      "source": [
        "Looking at the length distribution of fake and real news"
      ]
    },
    {
      "cell_type": "code",
      "execution_count": 15,
      "metadata": {
        "colab": {
          "base_uri": "https://localhost:8080/",
          "height": 518
        },
        "id": "QM7hi29egIhI",
        "outputId": "7fe74975-b4fb-490b-d487-64bbea3be41d"
      },
      "outputs": [
        {
          "output_type": "display_data",
          "data": {
            "text/plain": [
              "<Figure size 1800x1000 with 1 Axes>"
            ],
            "image/png": "[encoded data removed]"
          },
          "metadata": {}
        }
      ],
      "source": [
        "fake['length'] = fake.loc[:,'text'].apply(len)\n",
        "real['length'] = real.loc[:,'text'].apply(len)\n",
        "\n",
        "plt.figure(figsize=(18, 10))\n",
        "\n",
        "plt.title(\"Distribution of Text Lengths for Real and Fake News articles\", fontsize='large')\n",
        "plt.xlabel('Length', fontsize='large')\n",
        "plt.ylabel('Count', fontsize='large')\n",
        "\n",
        "sns.histplot(fake['length'], kde=True)\n",
        "sns.histplot(real['length'], kde=True)\n",
        "\n",
        "\n",
        "plt.legend(['Real', 'Fake'], fontsize='large', loc='upper right', bbox_to_anchor=(1, 1))\n",
        "plt.show()"
      ]
    },
    {
      "cell_type": "code",
      "source": [
        "# Looking at the average lengths of texts labeled real vs. texts labeled fake\n",
        "print(\"--------Average Length-------- \")\n",
        "print(f\"Fake: {fake['length'].mean()}\")\n",
        "print(f\"Real: {real['length'].mean()}\")"
      ],
      "metadata": {
        "id": "J1eJqjie43uG",
        "colab": {
          "base_uri": "https://localhost:8080/"
        },
        "outputId": "f734c4a1-e499-473b-d6b4-5111c7e35ba0"
      },
      "execution_count": 16,
      "outputs": [
        {
          "output_type": "stream",
          "name": "stdout",
          "text": [
            "--------Average Length-------- \n",
            "Fake: 4032.5037004788855\n",
            "Real: 5693.293554006968\n"
          ]
        }
      ]
    },
    {
      "cell_type": "code",
      "execution_count": 17,
      "metadata": {
        "id": "9_vzjMYQ74jt"
      },
      "outputs": [],
      "source": [
        "N_MOST_COMMON = 10\n",
        "N = 2\n",
        "\n",
        "def remove_stopwords(text):\n",
        "  words = word_tokenize(text)\n",
        "  stopwords_english = set(stopwords.words('english'))\n",
        "\n",
        "  no_stopwords = [word for word in words if word.lower() not in stopwords_english]\n",
        "\n",
        "  return ' '.join(no_stopwords)\n",
        "\n",
        "def generate_ngrams(tokens, n):\n",
        "    return list(ngrams(tokens, n))\n",
        "\n",
        "combined_real = ' '.join(list(real['text'])).lower()\n",
        "cleaned_real = remove_stopwords(combined_real)\n",
        "cleaned_real = re.sub(r'[^\\w\\s]', '', cleaned_real)\n",
        "\n",
        "combined_fake = ' '.join(list(fake['text'])).lower()\n",
        "cleaned_fake = remove_stopwords(combined_fake)\n",
        "cleaned_fake = re.sub(r'[^\\w\\s]', '', cleaned_fake)\n",
        "\n",
        "real_tokens = word_tokenize(cleaned_real)\n",
        "fake_tokens = word_tokenize(cleaned_fake)\n",
        "\n",
        "real_ngram_list = generate_ngrams(real_tokens, N)\n",
        "fake_ngram_list = generate_ngrams(fake_tokens, N)\n",
        "\n",
        "real_counts = Counter(real_ngram_list)\n",
        "fake_counts = Counter(fake_ngram_list)\n",
        "\n",
        "top_real = real_counts.most_common(N_MOST_COMMON)\n",
        "top_fake = fake_counts.most_common(N_MOST_COMMON)"
      ]
    },
    {
      "cell_type": "markdown",
      "metadata": {
        "id": "LSqq5MJFNBeB"
      },
      "source": [
        "---"
      ]
    },
    {
      "cell_type": "markdown",
      "metadata": {
        "id": "_dEVNOpAfY9-"
      },
      "source": [
        "Visualizing all that information to better understand it"
      ]
    },
    {
      "cell_type": "code",
      "execution_count": 18,
      "metadata": {
        "id": "XKuHqwy2DrCt"
      },
      "outputs": [],
      "source": [
        "top_real = dict(top_real)\n",
        "top_fake = dict(top_fake)"
      ]
    },
    {
      "cell_type": "code",
      "execution_count": 19,
      "metadata": {
        "colab": {
          "base_uri": "https://localhost:8080/",
          "height": 595
        },
        "id": "oSjIqLR2A6IK",
        "outputId": "ecf89a40-d3d3-4eda-8a1d-96c3808658d6"
      },
      "outputs": [
        {
          "output_type": "display_data",
          "data": {
            "text/plain": [
              "<Figure size 1600x1000 with 1 Axes>"
            ],
            "image/png": "[encoded data removed]"
          },
          "metadata": {}
        }
      ],
      "source": [
        "figsize = plt.figure(figsize=(16, 10))\n",
        "plt.title(f\"{N_MOST_COMMON} most common Bi-grams in articles labeled as Real News\\n\")\n",
        "\n",
        "plt.xlabel(\"\\nBi-grams\")\n",
        "plt.ylabel(\"Count\\n\")\n",
        "\n",
        "ax = sns.barplot(x=pd.Series(top_real.keys()).apply(lambda x: x[0] + \" \" + x[1]), y=top_real.values())\n",
        "\n",
        "for i in ax.containers:\n",
        "  ax.bar_label(i,)\n",
        "\n",
        "plt.show()"
      ]
    },
    {
      "cell_type": "code",
      "execution_count": 20,
      "metadata": {
        "colab": {
          "base_uri": "https://localhost:8080/",
          "height": 595
        },
        "id": "Bboyis5efLhU",
        "outputId": "86d08ef0-3609-473f-e39d-37cd7697a10f"
      },
      "outputs": [
        {
          "output_type": "display_data",
          "data": {
            "text/plain": [
              "<Figure size 1600x1000 with 1 Axes>"
            ],
            "image/png": "[encoded data removed]"
          },
          "metadata": {}
        }
      ],
      "source": [
        "figsize = plt.figure(figsize=(16, 10))\n",
        "plt.title(f\"{N_MOST_COMMON} most common Bi-grams in articles labeled as Fake News\\n\")\n",
        "\n",
        "plt.xlabel(\"\\nBi-grams\")\n",
        "plt.ylabel(\"Count\\n\")\n",
        "\n",
        "ax2 = sns.barplot(x=pd.Series(top_fake.keys()).apply(lambda x: x[0] + \" \" + x[1]), y=top_fake.values(),\n",
        "            color='orange')\n",
        "\n",
        "for i in ax2.containers:\n",
        "  ax2.bar_label(i,)\n",
        "\n",
        "\n",
        "plt.show()"
      ]
    },
    {
      "cell_type": "markdown",
      "metadata": {
        "id": "9cpc451gffgH"
      },
      "source": [
        "We can see that many of the most commong bi-grams are shared within both real and fake news. Therefore, it also follows that topic is not necessarily and important feature when it comes to identifying fake or real news, atleast in this dataset. We cannot generalize to all data since this dataset is not representative of the overall population and contains articles from mostly political contexts."
      ]
    },
    {
      "cell_type": "markdown",
      "metadata": {
        "id": "X06DG69ZNCzx"
      },
      "source": [
        "# Analysis and Prediction using LSTMs"
      ]
    },
    {
      "cell_type": "markdown",
      "metadata": {
        "id": "0xq2IckXlKnw"
      },
      "source": [
        "Long Short-Term Memory models (or LSTMs for short) are a type of recurrent neural network which are extremely useful in text classification. Their strength lies in the fact that inputs are passed in procedurally. This means that any given text is passed into the network one word at a time, and the output from previous words is passed in as well. That's where the memory aspect of this model comes in. The model \"remembers\" past inputs and in doing so, it can pick up on patterns with word placement in texts as well as textual context.\n",
        "\n"
      ]
    },
    {
      "cell_type": "markdown",
      "metadata": {
        "id": "cnKFu3JHohlV"
      },
      "source": [
        "\n",
        "LSTMs excel at grasping the sequential structure of text due to their recurrent nature., allowing them to pick up on subtle cues and patterns that indicate misinformation. By analyzing the flow of language over time, LSTMs can effectively distinguish between genuine and fake news, making them a valuable tool in combating misinformation online."
      ]
    },
    {
      "cell_type": "markdown",
      "metadata": {
        "id": "lvaWnh91kCkl"
      },
      "source": [
        "\n",
        "![LSTM_Diagram.png](data:image/png;base64,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)\n"
      ]
    },
    {
      "cell_type": "markdown",
      "metadata": {
        "id": "TULRdF4Zojw6"
      },
      "source": [
        "Looking at the diagram above, let's go through an example with the text \"My name is Zach\"."
      ]
    },
    {
      "cell_type": "markdown",
      "metadata": {
        "id": "_sFrx2jLot1f"
      },
      "source": [
        "\n",
        "\n",
        "#### The text is first tokenized and split into an array.\n",
        "*  In this case: [\"My\", \"name\", \"is\", \"Zach\"]\n",
        "* The words are represented as numbers based on a tokenization algorithm, a sample tokenization could be [324, 243, 54, 211].\n",
        "\n",
        "#### Each token is passed in to the model individually to different cells, and the output of previous tokens is passed into each consequetive cell.\n",
        "* For example $x_0$ would be 324 and $x_1$ would be 243. The second A cell would take in 243 as input as well as the output from the first A cell where we passed in 324, giving this model is \"memory\".\n",
        "* The process would repeat until we reach the end of the sentence, at which point an output would be generated.\n",
        "---\n"
      ]
    },
    {
      "cell_type": "markdown",
      "metadata": {
        "id": "aR9DKss4Z378"
      },
      "source": [
        "Machine Learning models require a training set to learn from and generate patterns from, and a test set so we can understand how well the model performs on data it has never seen before (out-of-sample data)."
      ]
    },
    {
      "cell_type": "code",
      "execution_count": 21,
      "metadata": {
        "id": "GA8sSFh7ZGvE"
      },
      "outputs": [],
      "source": [
        "# Defining certain constants to split our data into training and test datasets.\n",
        "TRAIN_SIZE = 0.8\n",
        "idx = int(len(df) * TRAIN_SIZE) # The index where we will be splitting is the length * TRAIN_SIZE\n",
        "\n",
        "# Before we split the data, we shuffle it to make sure that no one set is biased\n",
        "df = df.sample(frac=1).reset_index().drop('index', axis=1)\n",
        "\n",
        "train = df.iloc[0:idx]\n",
        "test = df.iloc[idx:]"
      ]
    },
    {
      "cell_type": "code",
      "execution_count": 22,
      "metadata": {
        "colab": {
          "base_uri": "https://localhost:8080/"
        },
        "id": "SjJ5Re9lv-zW",
        "outputId": "52bcc674-ff0c-475c-ea94-d96660ca776d"
      },
      "outputs": [
        {
          "output_type": "stream",
          "name": "stdout",
          "text": [
            "Train: RangeIndex(start=0, stop=3674, step=1)\n",
            "Train: RangeIndex(start=3674, stop=4593, step=1)\n",
            "Original Dataset: RangeIndex(start=0, stop=4593, step=1)\n"
          ]
        }
      ],
      "source": [
        "# Checking that all our data is split properly\n",
        "print(\"Train:\", train.index)\n",
        "print(\"Train:\", test.index)\n",
        "print(\"Original Dataset:\", df.index)"
      ]
    },
    {
      "cell_type": "markdown",
      "metadata": {
        "id": "xVlQU4yaNK2L"
      },
      "source": [
        "Now that we've cleaned the data to make sure that it is in the right format for our model, looked at some features and gained insights from exploratory data analysis and visualization, it's time to create our deep learning model and train and test it to get predictions.\n",
        "\n",
        "---"
      ]
    },
    {
      "cell_type": "markdown",
      "source": [
        "## Text Preprocessing"
      ],
      "metadata": {
        "id": "9QCy4L4X3wh8"
      }
    },
    {
      "cell_type": "markdown",
      "metadata": {
        "id": "xLiMMedhNbGo"
      },
      "source": [
        "The first step is to preprocess our text. The process that I am using can be broken down into three main components:\n",
        "* Removing Stopwords\n",
        "* Lemmatization\n",
        "* Tokenization\n",
        "\n",
        "Stopwords are common words that have little effect on classification. Words like 'and', 'is', 'would', which are common grammatical function words, do not have much meaning that could be used to infer whether a text is fake or real.\n",
        "\n",
        "Lemmatization is the process of condensing words to their base forms. This could mean removing plurality, tenses, etc.\n",
        "\n",
        "Finally, perhaps the most important part is tokenization. This is the process of representing text in a quantitative format using an array of floating-point values. The general idea of tokenization is this:\n",
        "\n",
        "* Each word or important feature is assigned a number based on an already existing word-bank or vocabulary. The number is sometimes random, sometimes based on features of the text such as whether the word in question is at the beginning, middle, or end, or what part of speech the word is. The goal is to encode as much information about the text in question as possible using numbers.\n",
        "\n",
        "There are several algorithms to tokenize our text. The one we are using is the AutoTokenizer from the HuggingFace transformers library. AutoTokenizer tokenizes text using subword split tokenization. This means that unfamiliar non-base form words are split into different subwords which are then tokenized normally using HuggingFace's vocabulary. For example, the word \"annoyingly\" might be split into \"annoying\" and \"ly\" wihch are then tokenized individually. This makes it so that the model receives the meaning of the word as well as information about the part of speech.\n",
        "\n",
        "\n",
        "\n"
      ]
    },
    {
      "cell_type": "code",
      "execution_count": 23,
      "metadata": {
        "colab": {
          "base_uri": "https://localhost:8080/",
          "height": 145,
          "referenced_widgets": [
            "b084ff1ad6464298bbc36f3a905ab752",
            "cfaef88efcfe4372a414d07ee3f1a08b",
            "735f1d3d65964defa9fdd0e57b9d32ff",
            "6715e6be43234e718a2c60c6106dff93",
            "92ce6e3d8aec46dba48e327e78a77bd7",
            "21f969a6d7684735ad5bf8f0c53f695f",
            "50de8b04010c4436be4c274064562852",
            "7dd982f91a914353b0e43fb8a46759b2",
            "f1c25c2f70f747788bdb6b8b29803705",
            "dfd84c5d26834e28a0fdbab8753ea5f4",
            "c3578f57fe6e491887f1f5bd9634f896",
            "32af36b8fd2e4e5488b309bdf2b48e7b",
            "bd9942683cb741e69175aab97377bd11",
            "f9e1508f602a43b98f48fd84b6a9cfff",
            "9f1a3035071d4cfea08453b52305f0c1",
            "c31dc1e72f1e401a9e5823ae2b72e3d9",
            "e5cf3d3d31364903aa99997a865e5a66",
            "cd3df97bb7f9453cbd26d25ccf82ba60",
            "7b62804d6b0d4e67834cc57b529a0881",
            "89e643f745af419388a93ee03f7c724b",
            "55ab25959a3241b3a0105da1a9ed7fd0",
            "bcb9c879513d412ba649c853d2f0e08e",
            "de6edb74075b4e4ba319d4f16f1edcad",
            "ced99d7cf4434efda297f0d86b435ce9",
            "797f278a0012402dae10fda290b37cf2",
            "a0f8969e16a24ee5884ca56f85117fe1",
            "b31a5487c052440aa69b76af3f33ddf2",
            "a2c522ad21f345d2a770cb0dfe8540b4",
            "8ccc0e1dbf7345fe86072646390962d3",
            "6c906c40c89045dc8b5651cd8fcef47b",
            "fc1b7035d5fd418d960c71dcd5f140bf",
            "ebd0fe581b414f6ca243345a2d4089f2",
            "5d9edbf7e5da4615b23d3789c1693de9",
            "b8b1d33db2be4e21950f46a7f2c64786",
            "e43b4c331af741faa732a43f79c76cc1",
            "fba62761213b4808a25a6ed99d90d3d5",
            "c7e52eacd3294bb7b0a0032711d0c884",
            "e6151a771d3a4be7a9b14cf908124e16",
            "0900781c19ec4af1931d4accf8028397",
            "d7f68759e85c4f9d9cf85721bbdfdbfa",
            "91a47e61a68b4d378f6e36771a2ae253",
            "bb4c17ff48204f12b91ecae4d11ecd9c",
            "aa1c90f2840e4fb99f041eb063c34bac",
            "e48bd29595c445359d18dff3f1f815f3"
          ]
        },
        "id": "j2AHayKpsgcx",
        "outputId": "f41b9dcd-35d4-4435-f5f8-da7fede59d22"
      },
      "outputs": [
        {
          "output_type": "display_data",
          "data": {
            "text/plain": [
              "tokenizer_config.json:   0%|          | 0.00/49.0 [00:00<?, ?B/s]"
            ],
            "application/vnd.jupyter.widget-view+json": {
              "version_major": 2,
              "version_minor": 0,
              "model_id": "b084ff1ad6464298bbc36f3a905ab752"
            }
          },
          "metadata": {}
        },
        {
          "output_type": "display_data",
          "data": {
            "text/plain": [
              "config.json:   0%|          | 0.00/570 [00:00<?, ?B/s]"
            ],
            "application/vnd.jupyter.widget-view+json": {
              "version_major": 2,
              "version_minor": 0,
              "model_id": "32af36b8fd2e4e5488b309bdf2b48e7b"
            }
          },
          "metadata": {}
        },
        {
          "output_type": "display_data",
          "data": {
            "text/plain": [
              "vocab.txt:   0%|          | 0.00/213k [00:00<?, ?B/s]"
            ],
            "application/vnd.jupyter.widget-view+json": {
              "version_major": 2,
              "version_minor": 0,
              "model_id": "de6edb74075b4e4ba319d4f16f1edcad"
            }
          },
          "metadata": {}
        },
        {
          "output_type": "display_data",
          "data": {
            "text/plain": [
              "tokenizer.json:   0%|          | 0.00/436k [00:00<?, ?B/s]"
            ],
            "application/vnd.jupyter.widget-view+json": {
              "version_major": 2,
              "version_minor": 0,
              "model_id": "b8b1d33db2be4e21950f46a7f2c64786"
            }
          },
          "metadata": {}
        }
      ],
      "source": [
        "tokenizer = AutoTokenizer.from_pretrained('bert-base-cased')\n",
        "lemma = WordNetLemmatizer()\n",
        "\n",
        "def preprocess_text(text):\n",
        "  text = re.sub(r'[^\\w\\s]', '', text)\n",
        "  no_stopwords = remove_stopwords(text).split(' ')\n",
        "\n",
        "  lemmatized = [lemma.lemmatize(word) for word in no_stopwords]\n",
        "  preprocessed_text = ' '.join(lemmatized)\n",
        "\n",
        "  return preprocessed_text\n",
        "\n",
        "# The transformers Tokenizer can only take in text with 512 words. Our articles are thousands of words long so we have to process text in batches.\n",
        "def tokenize_text(text, batch_size=512, return_type='list'):\n",
        "  try:\n",
        "    text = preprocess_text(text).split(' ')\n",
        "  except:\n",
        "    print(\"Error Occured: \" + text)\n",
        "    return\n",
        "\n",
        "  tokenized = []\n",
        "  N = math.ceil(len(text) / batch_size)\n",
        "\n",
        "  start = 0\n",
        "  end = batch_size\n",
        "  for i in range(N):\n",
        "    current_text = ' '.join(text[start:end])\n",
        "    token = tokenizer(current_text, padding=True, truncation=True)['input_ids']\n",
        "    tokenized.extend(token)\n",
        "\n",
        "    try:\n",
        "      start += batch_size\n",
        "      end += batch_size\n",
        "    except:\n",
        "      end = len(text)\n",
        "      start += batch_size\n",
        "\n",
        "  match return_type:\n",
        "    case \"list\":\n",
        "      return tokenized\n",
        "\n",
        "    case \"np\":\n",
        "      return np.array(tokenized)\n",
        "\n",
        "    case \"tf\":\n",
        "      return tf.tensor(tokenized)"
      ]
    },
    {
      "cell_type": "markdown",
      "source": [
        "Applying our previous tokenize_text function to the train and test data."
      ],
      "metadata": {
        "id": "l1zVCjyq6_r3"
      }
    },
    {
      "cell_type": "code",
      "execution_count": 24,
      "metadata": {
        "id": "YJtR3bq1k38F"
      },
      "outputs": [],
      "source": [
        "train_text = train['text'].apply(tokenize_text)\n",
        "title_text = train['title'].apply(tokenize_text)\n",
        "\n",
        "train_text = sequence.pad_sequences(train_text)\n",
        "title_text = sequence.pad_sequences(title_text)\n",
        "\n",
        "train_labels = train['label'].tolist()"
      ]
    },
    {
      "cell_type": "code",
      "execution_count": 25,
      "metadata": {
        "id": "ed5a0ii4mqlQ"
      },
      "outputs": [],
      "source": [
        "# Storing the maximum length so we can use it when we preprocess our test data\n",
        "MAX_TEXT_LENGTH = len(train_text[0])\n",
        "MAX_TITLE_LENGTH = len(title_text[0])"
      ]
    },
    {
      "cell_type": "markdown",
      "source": [
        "## Creating and Training the Model"
      ],
      "metadata": {
        "id": "mg8i1mby6Y6m"
      }
    },
    {
      "cell_type": "markdown",
      "source": [
        "We have now preprocessed both the training and testing data and are now ready to create our model. To do so, I will be using the keras Functional API. As opposed to the Sequential API, the Functional API lets us customize our model much more, which is necessary as we have multiple inputs (title and text)."
      ],
      "metadata": {
        "id": "KFJjSRo_zvR_"
      }
    },
    {
      "cell_type": "markdown",
      "source": [
        "A brief explanation of how the model works: each input (title and text) is first passed through an Embedding layer for extra tokenization and vectorization. The input is then passed in to an LSTM layer with a 'tanh' activation function. As mentioned before, the LSTM takes in the text individually a word-at-a-time and generates output using the 'tanh' activation function. The Dropout layer helps reduce overfitting by 'cutting' 25% of the connections between the first LSTM and the next. After each input is passed through the Embedding Function and two LSTMs, the resulting output is concatenated. Finally, the outputs are generated using a Dense Layer with one out channel and a sigmoid activation function. We will delve into activation functions and overfitting next."
      ],
      "metadata": {
        "id": "lTJSLNIK0fu3"
      }
    },
    {
      "cell_type": "markdown",
      "source": [
        "## Activation Functions\n",
        "\n",
        "Activation functions are key in neural networks because they introduce non-linearities, enabling the network to grasp intricate patterns in the data. They're applied to the output of each neuron, shaping how information flows through the network. Common activation functions like sigmoid, tanh, ReLU (short for Rectified Linear Unit), and softmax each have their roles in helping the network understand different aspects of the data.\n",
        "\n",
        "#### Sigmoid\n",
        "* The sigmoid function converts input values to a value between 0 and 1. It eseentially 'squashes' the data between 0 and 1. This is useful in our output layer as we can interpret the logits.\n",
        "\n",
        "\n",
        "![Activation Funcs.jpeg](data:image/jpeg;base64,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)"
      ],
      "metadata": {
        "id": "-1Agthk93xtq"
      }
    },
    {
      "cell_type": "markdown",
      "source": [
        "## Overfitting and Underfitting\n",
        "In machine learning, there are two base metrics to measure how our model performs in a general sense: Bias and Variance\n",
        "\n",
        "*Bias* represents the error due to overly simplistic assumptions in the learning algorithm. High bias can cause an algorithm to miss the relevant relations between features and target outputs (underfitting).\n",
        "\n",
        "*Variance*, on the other hand, represents the error due to too much complexity in the learning algorithm. High variance can cause an algorithm to model the random noise in the training data, rather than the intended outputs (overfitting).\n",
        "\n",
        "To see whether our model contains high bias/variance, we can look at how it performs on test vs. train data.\n",
        "\n",
        "1. If the model performs considerably well on train data, but poorly on out-of-sample test data, this could be a sign of high variance. The model models the noise of the training data and poorly generalizes to other data. (Overfitting)\n",
        "\n",
        "2. If the model performs poorly on train and test data, this is a sign of high bias (underfitting)\n",
        "\n",
        "![Bias and Variance.webp](\n",
        "data:image/webp;base64,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)\n",
        "\n"
      ],
      "metadata": {
        "id": "DsJwr_JV1gjm"
      }
    },
    {
      "cell_type": "markdown",
      "source": [
        "------"
      ],
      "metadata": {
        "id": "KmnSMg8g3hmM"
      }
    },
    {
      "cell_type": "markdown",
      "source": [
        "\n",
        "Addressing overfitting often involves techniques like regularization (such as L1 or L2 regularization), dropout, early stopping, or using simpler models. It's essential to strike a balance between bias and variance to build a model that generalizes well to unseen data. The two methods I have used are L2 Regularization and Dropout."
      ],
      "metadata": {
        "id": "oVR_8yKg2EFV"
      }
    },
    {
      "cell_type": "code",
      "source": [
        "# Defining constants\n",
        "DROPOUT_PERCENT = 0.25\n",
        "LSTM_LAYERS = 16\n",
        "VOCAB_SIZE = 88584\n",
        "OUTPUT = 1\n",
        "EPOCHS = 4"
      ],
      "metadata": {
        "id": "qdFWz049It3z"
      },
      "execution_count": 26,
      "outputs": []
    },
    {
      "cell_type": "code",
      "execution_count": 27,
      "metadata": {
        "id": "6WAlxn3w4Nqn"
      },
      "outputs": [],
      "source": [
        "# Building our model\n",
        "input_1 = keras.Input(shape=train_text[0].shape) # input that takes in the text\n",
        "x = keras.layers.Embedding(VOCAB_SIZE, 64)(input_1)\n",
        "x = keras.layers.LSTM(LSTM_LAYERS, activation='tanh', kernel_regularizer=regularizers.l2(0.01), return_sequences=True)(x)\n",
        "x = keras.layers.Dropout(DROPOUT_PERCENT)(x)\n",
        "x = keras.layers.LSTM(LSTM_LAYERS, activation='tanh', kernel_regularizer=regularizers.l2(0.01))(x)\n",
        "\n",
        "input_2 = keras.Input(shape=title_text[0].shape) # input that takes in the title\n",
        "y = keras.layers.Embedding(VOCAB_SIZE, 64)(input_2)\n",
        "y = keras.layers.LSTM(LSTM_LAYERS, activation='tanh', kernel_regularizer=regularizers.l2(0.01), return_sequences=True)(y)\n",
        "y = keras.layers.Dropout(DROPOUT_PERCENT)(y)\n",
        "y = keras.layers.LSTM(LSTM_LAYERS, activation='tanh', kernel_regularizer=regularizers.l2(0.01))(y)\n",
        "\n",
        "inputs = keras.layers.Concatenate(axis=1)([x, y]) # Combining the results from both inputs\n",
        "outputs = keras.layers.Dense(OUTPUT, activation='sigmoid')(inputs) # Passing through a dense sigmoid layer\n",
        "\n",
        "model = keras.Model(inputs=[input_1, input_2], outputs=outputs)"
      ]
    },
    {
      "cell_type": "code",
      "source": [
        "keras.utils.plot_model(model)"
      ],
      "metadata": {
        "id": "2Y0M7-5Gts24",
        "colab": {
          "base_uri": "https://localhost:8080/",
          "height": 661
        },
        "outputId": "192e7104-7b53-48de-ba48-bf86333d82cf"
      },
      "execution_count": 28,
      "outputs": [
        {
          "output_type": "execute_result",
          "data": {
            "image/png": "[encoded data removed]",
            "text/plain": [
              "<IPython.core.display.Image object>"
            ]
          },
          "metadata": {},
          "execution_count": 28
        }
      ]
    },
    {
      "cell_type": "code",
      "execution_count": 29,
      "metadata": {
        "id": "1m1W6JrLgiy1"
      },
      "outputs": [],
      "source": [
        "model.compile(\n",
        "    optimizer='Adam',\n",
        "    loss='binary_crossentropy',\n",
        "    metrics=['accuracy']\n",
        ")"
      ]
    },
    {
      "cell_type": "markdown",
      "source": [
        "Training our model for a 4 iterations (or epochs), keeping track of our loss and accuracy for each epoch. We are converting train_labels to a NumPy array to match the train and title text."
      ],
      "metadata": {
        "id": "rzFoUXHPfX0u"
      }
    },
    {
      "cell_type": "code",
      "execution_count": 30,
      "metadata": {
        "id": "ClWBt0oCgtM9",
        "colab": {
          "base_uri": "https://localhost:8080/"
        },
        "outputId": "d91c4714-4af9-4fac-e2d8-d18ef3ab55be"
      },
      "outputs": [
        {
          "output_type": "stream",
          "name": "stdout",
          "text": [
            "Epoch 1/4\n",
            "115/115 [==============================] - 104s 797ms/step - loss: 1.4453 - accuracy: 0.7893\n",
            "Epoch 2/4\n",
            "115/115 [==============================] - 86s 748ms/step - loss: 0.4465 - accuracy: 0.9219\n",
            "Epoch 3/4\n",
            "115/115 [==============================] - 82s 710ms/step - loss: 0.1586 - accuracy: 0.9826\n",
            "Epoch 4/4\n",
            "115/115 [==============================] - 88s 767ms/step - loss: 0.0834 - accuracy: 0.9924\n"
          ]
        }
      ],
      "source": [
        "hist = model.fit(\n",
        "    [train_text, title_text], np.array(train_labels),\n",
        "    epochs=4,\n",
        "    verbose=1\n",
        ")"
      ]
    },
    {
      "cell_type": "code",
      "execution_count": 31,
      "metadata": {
        "id": "344bLip87G6B",
        "colab": {
          "base_uri": "https://localhost:8080/",
          "height": 581
        },
        "outputId": "12f815b2-a6b0-42ba-b28c-290bb91bd318"
      },
      "outputs": [
        {
          "output_type": "display_data",
          "data": {
            "text/plain": [
              "<Figure size 1300x800 with 1 Axes>"
            ],
            "image/png": "[encoded data removed]"
          },
          "metadata": {}
        }
      ],
      "source": [
        "loss_over_time = (hist.history['loss'])\n",
        "accuracy_over_time = (hist.history['accuracy'])\n",
        "\n",
        "fig, ax = plt.subplots(figsize=(13, 8))\n",
        "\n",
        "plt.title(\"Loss and accuracy over time (4 epochs)\")\n",
        "\n",
        "plt.xlabel(\"Epoch\")\n",
        "plt.ylabel(\"Binary Crossentropy Loss\")\n",
        "\n",
        "plt.plot(loss_over_time, 'o-')\n",
        "plt.plot(accuracy_over_time, 'o-')\n",
        "\n",
        "plt.legend(['Loss', 'Accuracy'])\n",
        "\n",
        "plt.show()"
      ]
    },
    {
      "cell_type": "code",
      "execution_count": 32,
      "metadata": {
        "id": "5iiwQfsD5CNw"
      },
      "outputs": [],
      "source": [
        "test_text = test['text'].apply(tokenize_text)\n",
        "test_text = sequence.pad_sequences(test_text, maxlen=MAX_TEXT_LENGTH)\n",
        "\n",
        "test_title = test['title'].apply(tokenize_text)\n",
        "test_title = sequence.pad_sequences(test_title, maxlen=MAX_TITLE_LENGTH)\n",
        "\n",
        "test_labels = np.array(test['label'])"
      ]
    },
    {
      "cell_type": "code",
      "execution_count": 33,
      "metadata": {
        "id": "5gmnYJ6P2Swj",
        "colab": {
          "base_uri": "https://localhost:8080/"
        },
        "outputId": "3a9719fb-b291-4901-d48c-c9238b717eb1"
      },
      "outputs": [
        {
          "output_type": "stream",
          "name": "stdout",
          "text": [
            "29/29 [==============================] - 15s 417ms/step - loss: 0.2264 - accuracy: 0.9260\n"
          ]
        },
        {
          "output_type": "execute_result",
          "data": {
            "text/plain": [
              "[0.22640587389469147, 0.926006555557251]"
            ]
          },
          "metadata": {},
          "execution_count": 33
        }
      ],
      "source": [
        "model.evaluate([test_text, test_title], test_labels)"
      ]
    },
    {
      "cell_type": "markdown",
      "source": [
        "Overall, the model performed very well, achieving a near perfect 0.9924 accuracy for the train set and an exceptional 0.9260 for the test set. While these results are very good, it is important to consider other factors. Our dataset only consisted of 5,000 entries, which means that the model might not be as efficient to generalize patterns across the millions of news articles in the internet, which could be a sign of overfitting.\n",
        "\n",
        "To test this hypothesis, I'm going to load in an entirely different fake news dataset, and evaluate our model's performance on the new test set."
      ],
      "metadata": {
        "id": "QcgMz-Nb82j-"
      }
    },
    {
      "cell_type": "code",
      "source": [
        "out_sample_test = pd.read_csv('train 2.csv')\n",
        "out_sample_test = out_sample_test.sample(frac=1).reset_index(drop=True)[:5000]\n",
        "\n",
        "out_sample_test.drop('author', axis=1, inplace=True)\n",
        "out_sample_test.dropna(inplace=True)\n",
        "\n",
        "# The labels are reversed in this new set where 1 is fake and 0 is real, so let's reverse those\n",
        "out_sample_test['label'] = np.where(out_sample_test.label == 1, 0, 1)"
      ],
      "metadata": {
        "id": "giSjiTVn8wmV"
      },
      "execution_count": 34,
      "outputs": []
    },
    {
      "cell_type": "code",
      "source": [
        "# Preprocessing the text and titles\n",
        "\n",
        "out_sample_text = out_sample_test['text'].apply(tokenize_text)\n",
        "out_sample_text = sequence.pad_sequences(out_sample_text, maxlen=MAX_TEXT_LENGTH)\n",
        "\n",
        "out_sample_title = out_sample_test['title'].apply(tokenize_text)\n",
        "out_sample_title = sequence.pad_sequences(out_sample_title, maxlen=MAX_TITLE_LENGTH)\n",
        "\n",
        "out_sample_labels = np.array(out_sample_test['label'])"
      ],
      "metadata": {
        "id": "Znzr5XUQ8yD2"
      },
      "execution_count": 35,
      "outputs": []
    },
    {
      "cell_type": "code",
      "source": [
        "model.evaluate([out_sample_text, out_sample_title], out_sample_labels)"
      ],
      "metadata": {
        "id": "V7KKuRDC8zyj",
        "colab": {
          "base_uri": "https://localhost:8080/"
        },
        "outputId": "44e10b80-bdd6-44cf-9059-5d6363777cf8"
      },
      "execution_count": 36,
      "outputs": [
        {
          "output_type": "stream",
          "name": "stdout",
          "text": [
            "153/153 [==============================] - 45s 286ms/step - loss: 1.3287 - accuracy: 0.6228\n"
          ]
        },
        {
          "output_type": "execute_result",
          "data": {
            "text/plain": [
              "[1.3287341594696045, 0.6227655410766602]"
            ]
          },
          "metadata": {},
          "execution_count": 36
        }
      ]
    },
    {
      "cell_type": "code",
      "source": [
        "# Saving our model\n",
        "model.save('fake_news_classifier.keras')"
      ],
      "metadata": {
        "id": "NMicdTBMJozC"
      },
      "execution_count": 37,
      "outputs": []
    },
    {
      "cell_type": "code",
      "execution_count": 38,
      "metadata": {
        "id": "DIge_Eox5f9_"
      },
      "outputs": [],
      "source": [
        "def fake_or_real(title, text):\n",
        "  title_token = tokenize_text(title, return_type='np')\n",
        "  text_token = tokenize_text(text, return_type='np')\n",
        "\n",
        "  title_token = title_token.reshape(-1, len(title_token))\n",
        "  text_token = text_token.reshape(-1, len(text_token))\n",
        "\n",
        "  title_token = sequence.pad_sequences(title_token, maxlen=MAX_TITLE_LENGTH)\n",
        "  text_token = sequence.pad_sequences(text_token, maxlen=MAX_TEXT_LENGTH)\n",
        "\n",
        "  logits = model.predict([text_token, title_token])\n",
        "  pred = 0 if logits[0] < 0.50 else 1\n",
        "  return logits, pred"
      ]
    },
    {
      "cell_type": "markdown",
      "metadata": {
        "id": "8xY4JxnjyKEE"
      },
      "source": [
        "# Conclusions\n",
        "\n",
        "While the train and test showed significantly high accuracy, out-of-sample data from a completely new dataset shows a much worse performance at only 0.62 accuracy. This is a surefire sign of overfitting, and this could be due to many different factors.\n",
        "* Our initial dataset was small in size (only 5000 entries in total), this could lead to not all forms of articles being represented.\n",
        "* Our model could have been too complex and trained on the noise from our initial datasets.\n",
        "\n",
        "To better mitigate overfitting, I have used techniques such as L2 regularization as well as adding dropout layers in the model. This reduces the high variance by a degree, however there are still things that could be done to address the issue more thorougly, such as:\n",
        "* Data augmentation by varying the order of words in the text\n",
        "* Training on a larger dataset or web-scraping to generate articles from all sources and contexts.\n",
        "\n",
        "\n",
        "Overall, I'm happy with the results as the model performed well on the dataset, but there was also significant overfitting. It was somewhat mitigated slightly by Dropout Layers and L2 Regularization, (accuracy went from 0.50 to 0.62). but research and work needs to be done in the future to address overfitting in our model completely.\n",
        "\n"
      ]
    }
  ],
  "metadata": {
    "accelerator": "GPU",
    "colab": {
      "gpuType": "T4",
      "provenance": []
    },
    "kernelspec": {
      "display_name": "Python 3",
      "name": "python3"
    },
    "language_info": {
      "name": "python"
    },
    "widgets": {
      "application/vnd.jupyter.widget-state+json": {
        "b084ff1ad6464298bbc36f3a905ab752": {
          "model_module": "@jupyter-widgets/controls",
          "model_name": "HBoxModel",
          "model_module_version": "1.5.0",
          "state": {
            "_dom_classes": [],
            "_model_module": "@jupyter-widgets/controls",
            "_model_module_version": "1.5.0",
            "_model_name": "HBoxModel",
            "_view_count": null,
            "_view_module": "@jupyter-widgets/controls",
            "_view_module_version": "1.5.0",
            "_view_name": "HBoxView",
            "box_style": "",
            "children": [
              "IPY_MODEL_cfaef88efcfe4372a414d07ee3f1a08b",
              "IPY_MODEL_735f1d3d65964defa9fdd0e57b9d32ff",
              "IPY_MODEL_6715e6be43234e718a2c60c6106dff93"
            ],
            "layout": "IPY_MODEL_92ce6e3d8aec46dba48e327e78a77bd7"
          }
        },
        "cfaef88efcfe4372a414d07ee3f1a08b": {
          "model_module": "@jupyter-widgets/controls",
          "model_name": "HTMLModel",
          "model_module_version": "1.5.0",
          "state": {
            "_dom_classes": [],
            "_model_module": "@jupyter-widgets/controls",
            "_model_module_version": "1.5.0",
            "_model_name": "HTMLModel",
            "_view_count": null,
            "_view_module": "@jupyter-widgets/controls",
            "_view_module_version": "1.5.0",
            "_view_name": "HTMLView",
            "description": "",
            "description_tooltip": null,
            "layout": "IPY_MODEL_21f969a6d7684735ad5bf8f0c53f695f",
            "placeholder": "​",
            "style": "IPY_MODEL_50de8b04010c4436be4c274064562852",
            "value": "tokenizer_config.json: 100%"
          }
        },
        "735f1d3d65964defa9fdd0e57b9d32ff": {
          "model_module": "@jupyter-widgets/controls",
          "model_name": "FloatProgressModel",
          "model_module_version": "1.5.0",
          "state": {
            "_dom_classes": [],
            "_model_module": "@jupyter-widgets/controls",
            "_model_module_version": "1.5.0",
            "_model_name": "FloatProgressModel",
            "_view_count": null,
            "_view_module": "@jupyter-widgets/controls",
            "_view_module_version": "1.5.0",
            "_view_name": "ProgressView",
            "bar_style": "success",
            "description": "",
            "description_tooltip": null,
            "layout": "IPY_MODEL_7dd982f91a914353b0e43fb8a46759b2",
            "max": 49,
            "min": 0,
            "orientation": "horizontal",
            "style": "IPY_MODEL_f1c25c2f70f747788bdb6b8b29803705",
            "value": 49
          }
        },
        "6715e6be43234e718a2c60c6106dff93": {
          "model_module": "@jupyter-widgets/controls",
          "model_name": "HTMLModel",
          "model_module_version": "1.5.0",
          "state": {
            "_dom_classes": [],
            "_model_module": "@jupyter-widgets/controls",
            "_model_module_version": "1.5.0",
            "_model_name": "HTMLModel",
            "_view_count": null,
            "_view_module": "@jupyter-widgets/controls",
            "_view_module_version": "1.5.0",
            "_view_name": "HTMLView",
            "description": "",
            "description_tooltip": null,
            "layout": "IPY_MODEL_dfd84c5d26834e28a0fdbab8753ea5f4",
            "placeholder": "​",
            "style": "IPY_MODEL_c3578f57fe6e491887f1f5bd9634f896",
            "value": " 49.0/49.0 [00:00&lt;00:00, 3.58kB/s]"
          }
        },
        "92ce6e3d8aec46dba48e327e78a77bd7": {
          "model_module": "@jupyter-widgets/base",
          "model_name": "LayoutModel",
          "model_module_version": "1.2.0",
          "state": {
            "_model_module": "@jupyter-widgets/base",
            "_model_module_version": "1.2.0",
            "_model_name": "LayoutModel",
            "_view_count": null,
            "_view_module": "@jupyter-widgets/base",
            "_view_module_version": "1.2.0",
            "_view_name": "LayoutView",
            "align_content": null,
            "align_items": null,
            "align_self": null,
            "border": null,
            "bottom": null,
            "display": null,
            "flex": null,
            "flex_flow": null,
            "grid_area": null,
            "grid_auto_columns": null,
            "grid_auto_flow": null,
            "grid_auto_rows": null,
            "grid_column": null,
            "grid_gap": null,
            "grid_row": null,
            "grid_template_areas": null,
            "grid_template_columns": null,
            "grid_template_rows": null,
            "height": null,
            "justify_content": null,
            "justify_items": null,
            "left": null,
            "margin": null,
            "max_height": null,
            "max_width": null,
            "min_height": null,
            "min_width": null,
            "object_fit": null,
            "object_position": null,
            "order": null,
            "overflow": null,
            "overflow_x": null,
            "overflow_y": null,
            "padding": null,
            "right": null,
            "top": null,
            "visibility": null,
            "width": null
          }
        },
        "21f969a6d7684735ad5bf8f0c53f695f": {
          "model_module": "@jupyter-widgets/base",
          "model_name": "LayoutModel",
          "model_module_version": "1.2.0",
          "state": {
            "_model_module": "@jupyter-widgets/base",
            "_model_module_version": "1.2.0",
            "_model_name": "LayoutModel",
            "_view_count": null,
            "_view_module": "@jupyter-widgets/base",
            "_view_module_version": "1.2.0",
            "_view_name": "LayoutView",
            "align_content": null,
            "align_items": null,
            "align_self": null,
            "border": null,
            "bottom": null,
            "display": null,
            "flex": null,
            "flex_flow": null,
            "grid_area": null,
            "grid_auto_columns": null,
            "grid_auto_flow": null,
            "grid_auto_rows": null,
            "grid_column": null,
            "grid_gap": null,
            "grid_row": null,
            "grid_template_areas": null,
            "grid_template_columns": null,
            "grid_template_rows": null,
            "height": null,
            "justify_content": null,
            "justify_items": null,
            "left": null,
            "margin": null,
            "max_height": null,
            "max_width": null,
            "min_height": null,
            "min_width": null,
            "object_fit": null,
            "object_position": null,
            "order": null,
            "overflow": null,
            "overflow_x": null,
            "overflow_y": null,
            "padding": null,
            "right": null,
            "top": null,
            "visibility": null,
            "width": null
          }
        },
        "50de8b04010c4436be4c274064562852": {
          "model_module": "@jupyter-widgets/controls",
          "model_name": "DescriptionStyleModel",
          "model_module_version": "1.5.0",
          "state": {
            "_model_module": "@jupyter-widgets/controls",
            "_model_module_version": "1.5.0",
            "_model_name": "DescriptionStyleModel",
            "_view_count": null,
            "_view_module": "@jupyter-widgets/base",
            "_view_module_version": "1.2.0",
            "_view_name": "StyleView",
            "description_width": ""
          }
        },
        "7dd982f91a914353b0e43fb8a46759b2": {
          "model_module": "@jupyter-widgets/base",
          "model_name": "LayoutModel",
          "model_module_version": "1.2.0",
          "state": {
            "_model_module": "@jupyter-widgets/base",
            "_model_module_version": "1.2.0",
            "_model_name": "LayoutModel",
            "_view_count": null,
            "_view_module": "@jupyter-widgets/base",
            "_view_module_version": "1.2.0",
            "_view_name": "LayoutView",
            "align_content": null,
            "align_items": null,
            "align_self": null,
            "border": null,
            "bottom": null,
            "display": null,
            "flex": null,
            "flex_flow": null,
            "grid_area": null,
            "grid_auto_columns": null,
            "grid_auto_flow": null,
            "grid_auto_rows": null,
            "grid_column": null,
            "grid_gap": null,
            "grid_row": null,
            "grid_template_areas": null,
            "grid_template_columns": null,
            "grid_template_rows": null,
            "height": null,
            "justify_content": null,
            "justify_items": null,
            "left": null,
            "margin": null,
            "max_height": null,
            "max_width": null,
            "min_height": null,
            "min_width": null,
            "object_fit": null,
            "object_position": null,
            "order": null,
            "overflow": null,
            "overflow_x": null,
            "overflow_y": null,
            "padding": null,
            "right": null,
            "top": null,
            "visibility": null,
            "width": null
          }
        },
        "f1c25c2f70f747788bdb6b8b29803705": {
          "model_module": "@jupyter-widgets/controls",
          "model_name": "ProgressStyleModel",
          "model_module_version": "1.5.0",
          "state": {
            "_model_module": "@jupyter-widgets/controls",
            "_model_module_version": "1.5.0",
            "_model_name": "ProgressStyleModel",
            "_view_count": null,
            "_view_module": "@jupyter-widgets/base",
            "_view_module_version": "1.2.0",
            "_view_name": "StyleView",
            "bar_color": null,
            "description_width": ""
          }
        },
        "dfd84c5d26834e28a0fdbab8753ea5f4": {
          "model_module": "@jupyter-widgets/base",
          "model_name": "LayoutModel",
          "model_module_version": "1.2.0",
          "state": {
            "_model_module": "@jupyter-widgets/base",
            "_model_module_version": "1.2.0",
            "_model_name": "LayoutModel",
            "_view_count": null,
            "_view_module": "@jupyter-widgets/base",
            "_view_module_version": "1.2.0",
            "_view_name": "LayoutView",
            "align_content": null,
            "align_items": null,
            "align_self": null,
            "border": null,
            "bottom": null,
            "display": null,
            "flex": null,
            "flex_flow": null,
            "grid_area": null,
            "grid_auto_columns": null,
            "grid_auto_flow": null,
            "grid_auto_rows": null,
            "grid_column": null,
            "grid_gap": null,
            "grid_row": null,
            "grid_template_areas": null,
            "grid_template_columns": null,
            "grid_template_rows": null,
            "height": null,
            "justify_content": null,
            "justify_items": null,
            "left": null,
            "margin": null,
            "max_height": null,
            "max_width": null,
            "min_height": null,
            "min_width": null,
            "object_fit": null,
            "object_position": null,
            "order": null,
            "overflow": null,
            "overflow_x": null,
            "overflow_y": null,
            "padding": null,
            "right": null,
            "top": null,
            "visibility": null,
            "width": null
          }
        },
        "c3578f57fe6e491887f1f5bd9634f896": {
          "model_module": "@jupyter-widgets/controls",
          "model_name": "DescriptionStyleModel",
          "model_module_version": "1.5.0",
          "state": {
            "_model_module": "@jupyter-widgets/controls",
            "_model_module_version": "1.5.0",
            "_model_name": "DescriptionStyleModel",
            "_view_count": null,
            "_view_module": "@jupyter-widgets/base",
            "_view_module_version": "1.2.0",
            "_view_name": "StyleView",
            "description_width": ""
          }
        },
        "32af36b8fd2e4e5488b309bdf2b48e7b": {
          "model_module": "@jupyter-widgets/controls",
          "model_name": "HBoxModel",
          "model_module_version": "1.5.0",
          "state": {
            "_dom_classes": [],
            "_model_module": "@jupyter-widgets/controls",
            "_model_module_version": "1.5.0",
            "_model_name": "HBoxModel",
            "_view_count": null,
            "_view_module": "@jupyter-widgets/controls",
            "_view_module_version": "1.5.0",
            "_view_name": "HBoxView",
            "box_style": "",
            "children": [
              "IPY_MODEL_bd9942683cb741e69175aab97377bd11",
              "IPY_MODEL_f9e1508f602a43b98f48fd84b6a9cfff",
              "IPY_MODEL_9f1a3035071d4cfea08453b52305f0c1"
            ],
            "layout": "IPY_MODEL_c31dc1e72f1e401a9e5823ae2b72e3d9"
          }
        },
        "bd9942683cb741e69175aab97377bd11": {
          "model_module": "@jupyter-widgets/controls",
          "model_name": "HTMLModel",
          "model_module_version": "1.5.0",
          "state": {
            "_dom_classes": [],
            "_model_module": "@jupyter-widgets/controls",
            "_model_module_version": "1.5.0",
            "_model_name": "HTMLModel",
            "_view_count": null,
            "_view_module": "@jupyter-widgets/controls",
            "_view_module_version": "1.5.0",
            "_view_name": "HTMLView",
            "description": "",
            "description_tooltip": null,
            "layout": "IPY_MODEL_e5cf3d3d31364903aa99997a865e5a66",
            "placeholder": "​",
            "style": "IPY_MODEL_cd3df97bb7f9453cbd26d25ccf82ba60",
            "value": "config.json: 100%"
          }
        },
        "f9e1508f602a43b98f48fd84b6a9cfff": {
          "model_module": "@jupyter-widgets/controls",
          "model_name": "FloatProgressModel",
          "model_module_version": "1.5.0",
          "state": {
            "_dom_classes": [],
            "_model_module": "@jupyter-widgets/controls",
            "_model_module_version": "1.5.0",
            "_model_name": "FloatProgressModel",
            "_view_count": null,
            "_view_module": "@jupyter-widgets/controls",
            "_view_module_version": "1.5.0",
            "_view_name": "ProgressView",
            "bar_style": "success",
            "description": "",
            "description_tooltip": null,
            "layout": "IPY_MODEL_7b62804d6b0d4e67834cc57b529a0881",
            "max": 570,
            "min": 0,
            "orientation": "horizontal",
            "style": "IPY_MODEL_89e643f745af419388a93ee03f7c724b",
            "value": 570
          }
        },
        "9f1a3035071d4cfea08453b52305f0c1": {
          "model_module": "@jupyter-widgets/controls",
          "model_name": "HTMLModel",
          "model_module_version": "1.5.0",
          "state": {
            "_dom_classes": [],
            "_model_module": "@jupyter-widgets/controls",
            "_model_module_version": "1.5.0",
            "_model_name": "HTMLModel",
            "_view_count": null,
            "_view_module": "@jupyter-widgets/controls",
            "_view_module_version": "1.5.0",
            "_view_name": "HTMLView",
            "description": "",
            "description_tooltip": null,
            "layout": "IPY_MODEL_55ab25959a3241b3a0105da1a9ed7fd0",
            "placeholder": "​",
            "style": "IPY_MODEL_bcb9c879513d412ba649c853d2f0e08e",
            "value": " 570/570 [00:00&lt;00:00, 39.1kB/s]"
          }
        },
        "c31dc1e72f1e401a9e5823ae2b72e3d9": {
          "model_module": "@jupyter-widgets/base",
          "model_name": "LayoutModel",
          "model_module_version": "1.2.0",
          "state": {
            "_model_module": "@jupyter-widgets/base",
            "_model_module_version": "1.2.0",
            "_model_name": "LayoutModel",
            "_view_count": null,
            "_view_module": "@jupyter-widgets/base",
            "_view_module_version": "1.2.0",
            "_view_name": "LayoutView",
            "align_content": null,
            "align_items": null,
            "align_self": null,
            "border": null,
            "bottom": null,
            "display": null,
            "flex": null,
            "flex_flow": null,
            "grid_area": null,
            "grid_auto_columns": null,
            "grid_auto_flow": null,
            "grid_auto_rows": null,
            "grid_column": null,
            "grid_gap": null,
            "grid_row": null,
            "grid_template_areas": null,
            "grid_template_columns": null,
            "grid_template_rows": null,
            "height": null,
            "justify_content": null,
            "justify_items": null,
            "left": null,
            "margin": null,
            "max_height": null,
            "max_width": null,
            "min_height": null,
            "min_width": null,
            "object_fit": null,
            "object_position": null,
            "order": null,
            "overflow": null,
            "overflow_x": null,
            "overflow_y": null,
            "padding": null,
            "right": null,
            "top": null,
            "visibility": null,
            "width": null
          }
        },
        "e5cf3d3d31364903aa99997a865e5a66": {
          "model_module": "@jupyter-widgets/base",
          "model_name": "LayoutModel",
          "model_module_version": "1.2.0",
          "state": {
            "_model_module": "@jupyter-widgets/base",
            "_model_module_version": "1.2.0",
            "_model_name": "LayoutModel",
            "_view_count": null,
            "_view_module": "@jupyter-widgets/base",
            "_view_module_version": "1.2.0",
            "_view_name": "LayoutView",
            "align_content": null,
            "align_items": null,
            "align_self": null,
            "border": null,
            "bottom": null,
            "display": null,
            "flex": null,
            "flex_flow": null,
            "grid_area": null,
            "grid_auto_columns": null,
            "grid_auto_flow": null,
            "grid_auto_rows": null,
            "grid_column": null,
            "grid_gap": null,
            "grid_row": null,
            "grid_template_areas": null,
            "grid_template_columns": null,
            "grid_template_rows": null,
            "height": null,
            "justify_content": null,
            "justify_items": null,
            "left": null,
            "margin": null,
            "max_height": null,
            "max_width": null,
            "min_height": null,
            "min_width": null,
            "object_fit": null,
            "object_position": null,
            "order": null,
            "overflow": null,
            "overflow_x": null,
            "overflow_y": null,
            "padding": null,
            "right": null,
            "top": null,
            "visibility": null,
            "width": null
          }
        },
        "cd3df97bb7f9453cbd26d25ccf82ba60": {
          "model_module": "@jupyter-widgets/controls",
          "model_name": "DescriptionStyleModel",
          "model_module_version": "1.5.0",
          "state": {
            "_model_module": "@jupyter-widgets/controls",
            "_model_module_version": "1.5.0",
            "_model_name": "DescriptionStyleModel",
            "_view_count": null,
            "_view_module": "@jupyter-widgets/base",
            "_view_module_version": "1.2.0",
            "_view_name": "StyleView",
            "description_width": ""
          }
        },
        "7b62804d6b0d4e67834cc57b529a0881": {
          "model_module": "@jupyter-widgets/base",
          "model_name": "LayoutModel",
          "model_module_version": "1.2.0",
          "state": {
            "_model_module": "@jupyter-widgets/base",
            "_model_module_version": "1.2.0",
            "_model_name": "LayoutModel",
            "_view_count": null,
            "_view_module": "@jupyter-widgets/base",
            "_view_module_version": "1.2.0",
            "_view_name": "LayoutView",
            "align_content": null,
            "align_items": null,
            "align_self": null,
            "border": null,
            "bottom": null,
            "display": null,
            "flex": null,
            "flex_flow": null,
            "grid_area": null,
            "grid_auto_columns": null,
            "grid_auto_flow": null,
            "grid_auto_rows": null,
            "grid_column": null,
            "grid_gap": null,
            "grid_row": null,
            "grid_template_areas": null,
            "grid_template_columns": null,
            "grid_template_rows": null,
            "height": null,
            "justify_content": null,
            "justify_items": null,
            "left": null,
            "margin": null,
            "max_height": null,
            "max_width": null,
            "min_height": null,
            "min_width": null,
            "object_fit": null,
            "object_position": null,
            "order": null,
            "overflow": null,
            "overflow_x": null,
            "overflow_y": null,
            "padding": null,
            "right": null,
            "top": null,
            "visibility": null,
            "width": null
          }
        },
        "89e643f745af419388a93ee03f7c724b": {
          "model_module": "@jupyter-widgets/controls",
          "model_name": "ProgressStyleModel",
          "model_module_version": "1.5.0",
          "state": {
            "_model_module": "@jupyter-widgets/controls",
            "_model_module_version": "1.5.0",
            "_model_name": "ProgressStyleModel",
            "_view_count": null,
            "_view_module": "@jupyter-widgets/base",
            "_view_module_version": "1.2.0",
            "_view_name": "StyleView",
            "bar_color": null,
            "description_width": ""
          }
        },
        "55ab25959a3241b3a0105da1a9ed7fd0": {
          "model_module": "@jupyter-widgets/base",
          "model_name": "LayoutModel",
          "model_module_version": "1.2.0",
          "state": {
            "_model_module": "@jupyter-widgets/base",
            "_model_module_version": "1.2.0",
            "_model_name": "LayoutModel",
            "_view_count": null,
            "_view_module": "@jupyter-widgets/base",
            "_view_module_version": "1.2.0",
            "_view_name": "LayoutView",
            "align_content": null,
            "align_items": null,
            "align_self": null,
            "border": null,
            "bottom": null,
            "display": null,
            "flex": null,
            "flex_flow": null,
            "grid_area": null,
            "grid_auto_columns": null,
            "grid_auto_flow": null,
            "grid_auto_rows": null,
            "grid_column": null,
            "grid_gap": null,
            "grid_row": null,
            "grid_template_areas": null,
            "grid_template_columns": null,
            "grid_template_rows": null,
            "height": null,
            "justify_content": null,
            "justify_items": null,
            "left": null,
            "margin": null,
            "max_height": null,
            "max_width": null,
            "min_height": null,
            "min_width": null,
            "object_fit": null,
            "object_position": null,
            "order": null,
            "overflow": null,
            "overflow_x": null,
            "overflow_y": null,
            "padding": null,
            "right": null,
            "top": null,
            "visibility": null,
            "width": null
          }
        },
        "bcb9c879513d412ba649c853d2f0e08e": {
          "model_module": "@jupyter-widgets/controls",
          "model_name": "DescriptionStyleModel",
          "model_module_version": "1.5.0",
          "state": {
            "_model_module": "@jupyter-widgets/controls",
            "_model_module_version": "1.5.0",
            "_model_name": "DescriptionStyleModel",
            "_view_count": null,
            "_view_module": "@jupyter-widgets/base",
            "_view_module_version": "1.2.0",
            "_view_name": "StyleView",
            "description_width": ""
          }
        },
        "de6edb74075b4e4ba319d4f16f1edcad": {
          "model_module": "@jupyter-widgets/controls",
          "model_name": "HBoxModel",
          "model_module_version": "1.5.0",
          "state": {
            "_dom_classes": [],
            "_model_module": "@jupyter-widgets/controls",
            "_model_module_version": "1.5.0",
            "_model_name": "HBoxModel",
            "_view_count": null,
            "_view_module": "@jupyter-widgets/controls",
            "_view_module_version": "1.5.0",
            "_view_name": "HBoxView",
            "box_style": "",
            "children": [
              "IPY_MODEL_ced99d7cf4434efda297f0d86b435ce9",
              "IPY_MODEL_797f278a0012402dae10fda290b37cf2",
              "IPY_MODEL_a0f8969e16a24ee5884ca56f85117fe1"
            ],
            "layout": "IPY_MODEL_b31a5487c052440aa69b76af3f33ddf2"
          }
        },
        "ced99d7cf4434efda297f0d86b435ce9": {
          "model_module": "@jupyter-widgets/controls",
          "model_name": "HTMLModel",
          "model_module_version": "1.5.0",
          "state": {
            "_dom_classes": [],
            "_model_module": "@jupyter-widgets/controls",
            "_model_module_version": "1.5.0",
            "_model_name": "HTMLModel",
            "_view_count": null,
            "_view_module": "@jupyter-widgets/controls",
            "_view_module_version": "1.5.0",
            "_view_name": "HTMLView",
            "description": "",
            "description_tooltip": null,
            "layout": "IPY_MODEL_a2c522ad21f345d2a770cb0dfe8540b4",
            "placeholder": "​",
            "style": "IPY_MODEL_8ccc0e1dbf7345fe86072646390962d3",
            "value": "vocab.txt: 100%"
          }
        },
        "797f278a0012402dae10fda290b37cf2": {
          "model_module": "@jupyter-widgets/controls",
          "model_name": "FloatProgressModel",
          "model_module_version": "1.5.0",
          "state": {
            "_dom_classes": [],
            "_model_module": "@jupyter-widgets/controls",
            "_model_module_version": "1.5.0",
            "_model_name": "FloatProgressModel",
            "_view_count": null,
            "_view_module": "@jupyter-widgets/controls",
            "_view_module_version": "1.5.0",
            "_view_name": "ProgressView",
            "bar_style": "success",
            "description": "",
            "description_tooltip": null,
            "layout": "IPY_MODEL_6c906c40c89045dc8b5651cd8fcef47b",
            "max": 213450,
            "min": 0,
            "orientation": "horizontal",
            "style": "IPY_MODEL_fc1b7035d5fd418d960c71dcd5f140bf",
            "value": 213450
          }
        },
        "a0f8969e16a24ee5884ca56f85117fe1": {
          "model_module": "@jupyter-widgets/controls",
          "model_name": "HTMLModel",
          "model_module_version": "1.5.0",
          "state": {
            "_dom_classes": [],
            "_model_module": "@jupyter-widgets/controls",
            "_model_module_version": "1.5.0",
            "_model_name": "HTMLModel",
            "_view_count": null,
            "_view_module": "@jupyter-widgets/controls",
            "_view_module_version": "1.5.0",
            "_view_name": "HTMLView",
            "description": "",
            "description_tooltip": null,
            "layout": "IPY_MODEL_ebd0fe581b414f6ca243345a2d4089f2",
            "placeholder": "​",
            "style": "IPY_MODEL_5d9edbf7e5da4615b23d3789c1693de9",
            "value": " 213k/213k [00:00&lt;00:00, 2.98MB/s]"
          }
        },
        "b31a5487c052440aa69b76af3f33ddf2": {
          "model_module": "@jupyter-widgets/base",
          "model_name": "LayoutModel",
          "model_module_version": "1.2.0",
          "state": {
            "_model_module": "@jupyter-widgets/base",
            "_model_module_version": "1.2.0",
            "_model_name": "LayoutModel",
            "_view_count": null,
            "_view_module": "@jupyter-widgets/base",
            "_view_module_version": "1.2.0",
            "_view_name": "LayoutView",
            "align_content": null,
            "align_items": null,
            "align_self": null,
            "border": null,
            "bottom": null,
            "display": null,
            "flex": null,
            "flex_flow": null,
            "grid_area": null,
            "grid_auto_columns": null,
            "grid_auto_flow": null,
            "grid_auto_rows": null,
            "grid_column": null,
            "grid_gap": null,
            "grid_row": null,
            "grid_template_areas": null,
            "grid_template_columns": null,
            "grid_template_rows": null,
            "height": null,
            "justify_content": null,
            "justify_items": null,
            "left": null,
            "margin": null,
            "max_height": null,
            "max_width": null,
            "min_height": null,
            "min_width": null,
            "object_fit": null,
            "object_position": null,
            "order": null,
            "overflow": null,
            "overflow_x": null,
            "overflow_y": null,
            "padding": null,
            "right": null,
            "top": null,
            "visibility": null,
            "width": null
          }
        },
        "a2c522ad21f345d2a770cb0dfe8540b4": {
          "model_module": "@jupyter-widgets/base",
          "model_name": "LayoutModel",
          "model_module_version": "1.2.0",
          "state": {
            "_model_module": "@jupyter-widgets/base",
            "_model_module_version": "1.2.0",
            "_model_name": "LayoutModel",
            "_view_count": null,
            "_view_module": "@jupyter-widgets/base",
            "_view_module_version": "1.2.0",
            "_view_name": "LayoutView",
            "align_content": null,
            "align_items": null,
            "align_self": null,
            "border": null,
            "bottom": null,
            "display": null,
            "flex": null,
            "flex_flow": null,
            "grid_area": null,
            "grid_auto_columns": null,
            "grid_auto_flow": null,
            "grid_auto_rows": null,
            "grid_column": null,
            "grid_gap": null,
            "grid_row": null,
            "grid_template_areas": null,
            "grid_template_columns": null,
            "grid_template_rows": null,
            "height": null,
            "justify_content": null,
            "justify_items": null,
            "left": null,
            "margin": null,
            "max_height": null,
            "max_width": null,
            "min_height": null,
            "min_width": null,
            "object_fit": null,
            "object_position": null,
            "order": null,
            "overflow": null,
            "overflow_x": null,
            "overflow_y": null,
            "padding": null,
            "right": null,
            "top": null,
            "visibility": null,
            "width": null
          }
        },
        "8ccc0e1dbf7345fe86072646390962d3": {
          "model_module": "@jupyter-widgets/controls",
          "model_name": "DescriptionStyleModel",
          "model_module_version": "1.5.0",
          "state": {
            "_model_module": "@jupyter-widgets/controls",
            "_model_module_version": "1.5.0",
            "_model_name": "DescriptionStyleModel",
            "_view_count": null,
            "_view_module": "@jupyter-widgets/base",
            "_view_module_version": "1.2.0",
            "_view_name": "StyleView",
            "description_width": ""
          }
        },
        "6c906c40c89045dc8b5651cd8fcef47b": {
          "model_module": "@jupyter-widgets/base",
          "model_name": "LayoutModel",
          "model_module_version": "1.2.0",
          "state": {
            "_model_module": "@jupyter-widgets/base",
            "_model_module_version": "1.2.0",
            "_model_name": "LayoutModel",
            "_view_count": null,
            "_view_module": "@jupyter-widgets/base",
            "_view_module_version": "1.2.0",
            "_view_name": "LayoutView",
            "align_content": null,
            "align_items": null,
            "align_self": null,
            "border": null,
            "bottom": null,
            "display": null,
            "flex": null,
            "flex_flow": null,
            "grid_area": null,
            "grid_auto_columns": null,
            "grid_auto_flow": null,
            "grid_auto_rows": null,
            "grid_column": null,
            "grid_gap": null,
            "grid_row": null,
            "grid_template_areas": null,
            "grid_template_columns": null,
            "grid_template_rows": null,
            "height": null,
            "justify_content": null,
            "justify_items": null,
            "left": null,
            "margin": null,
            "max_height": null,
            "max_width": null,
            "min_height": null,
            "min_width": null,
            "object_fit": null,
            "object_position": null,
            "order": null,
            "overflow": null,
            "overflow_x": null,
            "overflow_y": null,
            "padding": null,
            "right": null,
            "top": null,
            "visibility": null,
            "width": null
          }
        },
        "fc1b7035d5fd418d960c71dcd5f140bf": {
          "model_module": "@jupyter-widgets/controls",
          "model_name": "ProgressStyleModel",
          "model_module_version": "1.5.0",
          "state": {
            "_model_module": "@jupyter-widgets/controls",
            "_model_module_version": "1.5.0",
            "_model_name": "ProgressStyleModel",
            "_view_count": null,
            "_view_module": "@jupyter-widgets/base",
            "_view_module_version": "1.2.0",
            "_view_name": "StyleView",
            "bar_color": null,
            "description_width": ""
          }
        },
        "ebd0fe581b414f6ca243345a2d4089f2": {
          "model_module": "@jupyter-widgets/base",
          "model_name": "LayoutModel",
          "model_module_version": "1.2.0",
          "state": {
            "_model_module": "@jupyter-widgets/base",
            "_model_module_version": "1.2.0",
            "_model_name": "LayoutModel",
            "_view_count": null,
            "_view_module": "@jupyter-widgets/base",
            "_view_module_version": "1.2.0",
            "_view_name": "LayoutView",
            "align_content": null,
            "align_items": null,
            "align_self": null,
            "border": null,
            "bottom": null,
            "display": null,
            "flex": null,
            "flex_flow": null,
            "grid_area": null,
            "grid_auto_columns": null,
            "grid_auto_flow": null,
            "grid_auto_rows": null,
            "grid_column": null,
            "grid_gap": null,
            "grid_row": null,
            "grid_template_areas": null,
            "grid_template_columns": null,
            "grid_template_rows": null,
            "height": null,
            "justify_content": null,
            "justify_items": null,
            "left": null,
            "margin": null,
            "max_height": null,
            "max_width": null,
            "min_height": null,
            "min_width": null,
            "object_fit": null,
            "object_position": null,
            "order": null,
            "overflow": null,
            "overflow_x": null,
            "overflow_y": null,
            "padding": null,
            "right": null,
            "top": null,
            "visibility": null,
            "width": null
          }
        },
        "5d9edbf7e5da4615b23d3789c1693de9": {
          "model_module": "@jupyter-widgets/controls",
          "model_name": "DescriptionStyleModel",
          "model_module_version": "1.5.0",
          "state": {
            "_model_module": "@jupyter-widgets/controls",
            "_model_module_version": "1.5.0",
            "_model_name": "DescriptionStyleModel",
            "_view_count": null,
            "_view_module": "@jupyter-widgets/base",
            "_view_module_version": "1.2.0",
            "_view_name": "StyleView",
            "description_width": ""
          }
        },
        "b8b1d33db2be4e21950f46a7f2c64786": {
          "model_module": "@jupyter-widgets/controls",
          "model_name": "HBoxModel",
          "model_module_version": "1.5.0",
          "state": {
            "_dom_classes": [],
            "_model_module": "@jupyter-widgets/controls",
            "_model_module_version": "1.5.0",
            "_model_name": "HBoxModel",
            "_view_count": null,
            "_view_module": "@jupyter-widgets/controls",
            "_view_module_version": "1.5.0",
            "_view_name": "HBoxView",
            "box_style": "",
            "children": [
              "IPY_MODEL_e43b4c331af741faa732a43f79c76cc1",
              "IPY_MODEL_fba62761213b4808a25a6ed99d90d3d5",
              "IPY_MODEL_c7e52eacd3294bb7b0a0032711d0c884"
            ],
            "layout": "IPY_MODEL_e6151a771d3a4be7a9b14cf908124e16"
          }
        },
        "e43b4c331af741faa732a43f79c76cc1": {
          "model_module": "@jupyter-widgets/controls",
          "model_name": "HTMLModel",
          "model_module_version": "1.5.0",
          "state": {
            "_dom_classes": [],
            "_model_module": "@jupyter-widgets/controls",
            "_model_module_version": "1.5.0",
            "_model_name": "HTMLModel",
            "_view_count": null,
            "_view_module": "@jupyter-widgets/controls",
            "_view_module_version": "1.5.0",
            "_view_name": "HTMLView",
            "description": "",
            "description_tooltip": null,
            "layout": "IPY_MODEL_0900781c19ec4af1931d4accf8028397",
            "placeholder": "​",
            "style": "IPY_MODEL_d7f68759e85c4f9d9cf85721bbdfdbfa",
            "value": "tokenizer.json: 100%"
          }
        },
        "fba62761213b4808a25a6ed99d90d3d5": {
          "model_module": "@jupyter-widgets/controls",
          "model_name": "FloatProgressModel",
          "model_module_version": "1.5.0",
          "state": {
            "_dom_classes": [],
            "_model_module": "@jupyter-widgets/controls",
            "_model_module_version": "1.5.0",
            "_model_name": "FloatProgressModel",
            "_view_count": null,
            "_view_module": "@jupyter-widgets/controls",
            "_view_module_version": "1.5.0",
            "_view_name": "ProgressView",
            "bar_style": "success",
            "description": "",
            "description_tooltip": null,
            "layout": "IPY_MODEL_91a47e61a68b4d378f6e36771a2ae253",
            "max": 435797,
            "min": 0,
            "orientation": "horizontal",
            "style": "IPY_MODEL_bb4c17ff48204f12b91ecae4d11ecd9c",
            "value": 435797
          }
        },
        "c7e52eacd3294bb7b0a0032711d0c884": {
          "model_module": "@jupyter-widgets/controls",
          "model_name": "HTMLModel",
          "model_module_version": "1.5.0",
          "state": {
            "_dom_classes": [],
            "_model_module": "@jupyter-widgets/controls",
            "_model_module_version": "1.5.0",
            "_model_name": "HTMLModel",
            "_view_count": null,
            "_view_module": "@jupyter-widgets/controls",
            "_view_module_version": "1.5.0",
            "_view_name": "HTMLView",
            "description": "",
            "description_tooltip": null,
            "layout": "IPY_MODEL_aa1c90f2840e4fb99f041eb063c34bac",
            "placeholder": "​",
            "style": "IPY_MODEL_e48bd29595c445359d18dff3f1f815f3",
            "value": " 436k/436k [00:00&lt;00:00, 5.69MB/s]"
          }
        },
        "e6151a771d3a4be7a9b14cf908124e16": {
          "model_module": "@jupyter-widgets/base",
          "model_name": "LayoutModel",
          "model_module_version": "1.2.0",
          "state": {
            "_model_module": "@jupyter-widgets/base",
            "_model_module_version": "1.2.0",
            "_model_name": "LayoutModel",
            "_view_count": null,
            "_view_module": "@jupyter-widgets/base",
            "_view_module_version": "1.2.0",
            "_view_name": "LayoutView",
            "align_content": null,
            "align_items": null,
            "align_self": null,
            "border": null,
            "bottom": null,
            "display": null,
            "flex": null,
            "flex_flow": null,
            "grid_area": null,
            "grid_auto_columns": null,
            "grid_auto_flow": null,
            "grid_auto_rows": null,
            "grid_column": null,
            "grid_gap": null,
            "grid_row": null,
            "grid_template_areas": null,
            "grid_template_columns": null,
            "grid_template_rows": null,
            "height": null,
            "justify_content": null,
            "justify_items": null,
            "left": null,
            "margin": null,
            "max_height": null,
            "max_width": null,
            "min_height": null,
            "min_width": null,
            "object_fit": null,
            "object_position": null,
            "order": null,
            "overflow": null,
            "overflow_x": null,
            "overflow_y": null,
            "padding": null,
            "right": null,
            "top": null,
            "visibility": null,
            "width": null
          }
        },
        "0900781c19ec4af1931d4accf8028397": {
          "model_module": "@jupyter-widgets/base",
          "model_name": "LayoutModel",
          "model_module_version": "1.2.0",
          "state": {
            "_model_module": "@jupyter-widgets/base",
            "_model_module_version": "1.2.0",
            "_model_name": "LayoutModel",
            "_view_count": null,
            "_view_module": "@jupyter-widgets/base",
            "_view_module_version": "1.2.0",
            "_view_name": "LayoutView",
            "align_content": null,
            "align_items": null,
            "align_self": null,
            "border": null,
            "bottom": null,
            "display": null,
            "flex": null,
            "flex_flow": null,
            "grid_area": null,
            "grid_auto_columns": null,
            "grid_auto_flow": null,
            "grid_auto_rows": null,
            "grid_column": null,
            "grid_gap": null,
            "grid_row": null,
            "grid_template_areas": null,
            "grid_template_columns": null,
            "grid_template_rows": null,
            "height": null,
            "justify_content": null,
            "justify_items": null,
            "left": null,
            "margin": null,
            "max_height": null,
            "max_width": null,
            "min_height": null,
            "min_width": null,
            "object_fit": null,
            "object_position": null,
            "order": null,
            "overflow": null,
            "overflow_x": null,
            "overflow_y": null,
            "padding": null,
            "right": null,
            "top": null,
            "visibility": null,
            "width": null
          }
        },
        "d7f68759e85c4f9d9cf85721bbdfdbfa": {
          "model_module": "@jupyter-widgets/controls",
          "model_name": "DescriptionStyleModel",
          "model_module_version": "1.5.0",
          "state": {
            "_model_module": "@jupyter-widgets/controls",
            "_model_module_version": "1.5.0",
            "_model_name": "DescriptionStyleModel",
            "_view_count": null,
            "_view_module": "@jupyter-widgets/base",
            "_view_module_version": "1.2.0",
            "_view_name": "StyleView",
            "description_width": ""
          }
        },
        "91a47e61a68b4d378f6e36771a2ae253": {
          "model_module": "@jupyter-widgets/base",
          "model_name": "LayoutModel",
          "model_module_version": "1.2.0",
          "state": {
            "_model_module": "@jupyter-widgets/base",
            "_model_module_version": "1.2.0",
            "_model_name": "LayoutModel",
            "_view_count": null,
            "_view_module": "@jupyter-widgets/base",
            "_view_module_version": "1.2.0",
            "_view_name": "LayoutView",
            "align_content": null,
            "align_items": null,
            "align_self": null,
            "border": null,
            "bottom": null,
            "display": null,
            "flex": null,
            "flex_flow": null,
            "grid_area": null,
            "grid_auto_columns": null,
            "grid_auto_flow": null,
            "grid_auto_rows": null,
            "grid_column": null,
            "grid_gap": null,
            "grid_row": null,
            "grid_template_areas": null,
            "grid_template_columns": null,
            "grid_template_rows": null,
            "height": null,
            "justify_content": null,
            "justify_items": null,
            "left": null,
            "margin": null,
            "max_height": null,
            "max_width": null,
            "min_height": null,
            "min_width": null,
            "object_fit": null,
            "object_position": null,
            "order": null,
            "overflow": null,
            "overflow_x": null,
            "overflow_y": null,
            "padding": null,
            "right": null,
            "top": null,
            "visibility": null,
            "width": null
          }
        },
        "bb4c17ff48204f12b91ecae4d11ecd9c": {
          "model_module": "@jupyter-widgets/controls",
          "model_name": "ProgressStyleModel",
          "model_module_version": "1.5.0",
          "state": {
            "_model_module": "@jupyter-widgets/controls",
            "_model_module_version": "1.5.0",
            "_model_name": "ProgressStyleModel",
            "_view_count": null,
            "_view_module": "@jupyter-widgets/base",
            "_view_module_version": "1.2.0",
            "_view_name": "StyleView",
            "bar_color": null,
            "description_width": ""
          }
        },
        "aa1c90f2840e4fb99f041eb063c34bac": {
          "model_module": "@jupyter-widgets/base",
          "model_name": "LayoutModel",
          "model_module_version": "1.2.0",
          "state": {
            "_model_module": "@jupyter-widgets/base",
            "_model_module_version": "1.2.0",
            "_model_name": "LayoutModel",
            "_view_count": null,
            "_view_module": "@jupyter-widgets/base",
            "_view_module_version": "1.2.0",
            "_view_name": "LayoutView",
            "align_content": null,
            "align_items": null,
            "align_self": null,
            "border": null,
            "bottom": null,
            "display": null,
            "flex": null,
            "flex_flow": null,
            "grid_area": null,
            "grid_auto_columns": null,
            "grid_auto_flow": null,
            "grid_auto_rows": null,
            "grid_column": null,
            "grid_gap": null,
            "grid_row": null,
            "grid_template_areas": null,
            "grid_template_columns": null,
            "grid_template_rows": null,
            "height": null,
            "justify_content": null,
            "justify_items": null,
            "left": null,
            "margin": null,
            "max_height": null,
            "max_width": null,
            "min_height": null,
            "min_width": null,
            "object_fit": null,
            "object_position": null,
            "order": null,
            "overflow": null,
            "overflow_x": null,
            "overflow_y": null,
            "padding": null,
            "right": null,
            "top": null,
            "visibility": null,
            "width": null
          }
        },
        "e48bd29595c445359d18dff3f1f815f3": {
          "model_module": "@jupyter-widgets/controls",
          "model_name": "DescriptionStyleModel",
          "model_module_version": "1.5.0",
          "state": {
            "_model_module": "@jupyter-widgets/controls",
            "_model_module_version": "1.5.0",
            "_model_name": "DescriptionStyleModel",
            "_view_count": null,
            "_view_module": "@jupyter-widgets/base",
            "_view_module_version": "1.2.0",
            "_view_name": "StyleView",
            "description_width": ""
          }
        }
      }
    }
  },
  "nbformat": 4,
  "nbformat_minor": 0
}